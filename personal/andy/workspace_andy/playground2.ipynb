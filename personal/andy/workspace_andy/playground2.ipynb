{
 "cells": [
  {
   "cell_type": "code",
   "execution_count": 1,
   "metadata": {
    "collapsed": true
   },
   "outputs": [],
   "source": [
    "import pandas as pd\n",
    "import geopandas as gpd\n",
    "import functions\n",
    "import numpy as np\n",
    "from math import radians, cos, sin, asin, sqrt\n",
    "\n",
    "\n",
    "pd.set_option('display.max_columns', None)"
   ]
  },
  {
   "cell_type": "code",
   "execution_count": 2,
   "outputs": [],
   "source": [
    "def haversine(lon1, lat1, lon2, lat2):\n",
    "    \"\"\"\n",
    "    Calculate the great circle distance between two points\n",
    "    on the earth (specified in decimal degrees)\n",
    "    \"\"\"\n",
    "    # convert decimal degrees to radians\n",
    "    lon1, lat1, lon2, lat2 = map(radians, [lon1, lat1, lon2, lat2])\n",
    "    # haversine formula\n",
    "    dlon = lon2 - lon1\n",
    "    dlat = lat2 - lat1\n",
    "    a = sin(dlat/2)**2 + cos(lat1) * cos(lat2) * sin(dlon/2)**2\n",
    "    c = 2 * asin(sqrt(a))\n",
    "    # Radius of earth in kilometers is 6371\n",
    "    km = 6371* c\n",
    "    return km\n",
    "\n",
    "def sort_stops_of_route(route_num):\n",
    "    df = pd.DataFrame()\n",
    "    route = functions.get_stop_info_of_route(route_num)\n",
    "    # split direction into two\n",
    "    route2_west_stop_codes = [s[s.index(\"#\") + 1: s.index(\"#\") + 5] for s in west_transfer]\n",
    "    route2_west_direction = route2[route2[\"stop_code\"].isin(west_stop_codes)]\n",
    "\n",
    "    # calculate euclidean distances from the given starting point\n",
    "    start = route2_west_direction[route2_west_direction[\"stop_name\"] == \"West Transfer Point\"]\n",
    "    start_lat = float(start[\"stop_lat\"])\n",
    "    start_lon = float(start[\"stop_lon\"])\n",
    "    route2_distances = euclidean((start_lat, start_lon), route2_west_direction[\"stop_lat\"], route2_west_direction[\"stop_lon\"])\n",
    "    route2_distances.sort_values()"
   ],
   "metadata": {
    "collapsed": false,
    "pycharm": {
     "name": "#%%\n"
    }
   }
  },
  {
   "cell_type": "code",
   "execution_count": 4,
   "outputs": [
    {
     "data": {
      "text/plain": "62"
     },
     "execution_count": 4,
     "metadata": {},
     "output_type": "execute_result"
    }
   ],
   "source": [
    "north_transfer = [\"ABERG & N SHERMAN [EB#1877]\", \"ABERG & RUSKIN [EB#1759]\", \"CAMPUS & BABCOCK [EB#0809]\", \"E JOHNSON & N BALDWIN [EB#1325]\", \"E JOHNSON & N BLAIR [EB#1831]\", \"E JOHNSON & N BLOUNT [EB#1397]\", \"E JOHNSON & N BUTLER [EB#1227]\", \"E JOHNSON & N DICKINSON [EB#1267]\", \"E JOHNSON & N INGERSOLL [EB#1209] \\\"(Published Stop)\\\"\", \"E JOHNSON & N LIVINGSTON [EB#1121]\", \"E JOHNSON & N PATERSON [EB#1151]\", \"EAU CLAIRE & REGENT [NB#2121]\", \"FORDEM & E JOHNSON [NB#1707]\", \"FORDEM & LAKEWOOD [NB#1177]\", \"FORDEM & MCGUIRE [NB#1379] \\\"(Published Stop)\\\"\", \"HEATHER & HILLDALE MALL [EB#2501]\", \"HIGHLAND & MARSH [EB#2349]\", \"HIGHLAND & OBSERVATORY [SB#2916]\", \"HIGHLAND & V A HOSPITAL [SB#2822]\", \"HIGHLAND & WAISMAN [NB#2473]\", \"HUXLEY & NORTH TRANSFER [NB#5100]  \\\"(Published Stop)\\\"\", \"N BALDWIN & E JOHNSON [NB#1767]\", \"N BALDWIN & SHERMAN [NB#1157]\", \"N CARROLL & W MIFFLIN [SB#1324]\", \"N MIDVALE & HEATHER [NB#2741]\", \"N PINCKNEY & E MIFFLIN [NB#1495]\", \"N SEGOE & 518 [SB#2752]\", \"N SHERMAN & COMMERCIAL [NB#1923]\", \"N SHERMAN & FORDEM [NB#1717]\", \"N SHERMAN & OXFORD [NB#1715]\", \"N SHERMAN & ROTH [NB#1561]\", \"REGENT & S WHITNEY [EB#2201]\", \"S PINCKNEY & E MAIN [NB#1787]\", \"S WHITNEY & MARATHON [NB#2669]\", \"S WHITNEY & MINERAL POINT [NB#2401]\", \"S WHITNEY & SCIENCE [NB#2925]\", \"S WHITNEY & SOUTH HILL [NB#2249]\", \"SHEBOYGAN & EAU CLAIRE [EB#2175] \\\"(Published Stop)\\\"\", \"SHEBOYGAN & N SEGOE [EB#2395]\", \"SHEBOYGAN & STATE OFFICE [EB#2101]\", \"SHERMAN & MCGUIRE [EB#1533]\", \"SHERMAN & N THORNTON [EB#1577]\", \"SHERMAN & SHERMAN [EB#1329] \\\"(Published Stop)\\\"\", \"STATE & N FAIRCHILD [EB#0883]\", \"TOKAY & WEST TRANSFER [WB#6100] \\\"(Published Stop)\\\"\", \"UNIVERSITY & FOREST [EB#2717]\", \"UNIVERSITY & HIGHLAND [EB#2561]\", \"UNIVERSITY & N BLACKHAWK [EB#2755]\", \"UNIVERSITY & N BREESE [EB#0133] \\\"(Published Stop)\\\"\", \"UNIVERSITY & N MIDVALE [EB#2191]\", \"UNIVERSITY & PRINCETON [EB#2921]\", \"UNIVERSITY & RIDGE [EB#2945]\", \"UNIVERSITY & SHOREWOOD [EB#2595]\", \"UNIVERSITY & WALNUT [EB#2605]\", \"UNIVERSITY BAY & UNIVERSITY [NB#2131] \\\"(Published Stop)\\\"\", \"W JOHNSON & N BROOM [EB#0839]\", \"W JOHNSON & N CHARTER [EB#0581]\", \"W JOHNSON & N FRANCES [EB#0941]\", \"W JOHNSON & N LAKE [EB#0435]\", \"W JOHNSON & N MILLS [EB#0743]\", \"W JOHNSON & N PARK [EB#0455]\", \"W MAIN & S CARROLL [EB#1101] \\\"(Published Stop)\\\"\"]\n",
    "west_transfer = [\"ABERG & RUSKIN [WB#1504]\", \"E GORHAM & N BALDWIN [WB#1250]\", \"E GORHAM & N BLAIR [WB#1138]\", \"E GORHAM & N BLOUNT [WB#1662]\", \"E GORHAM & N INGERSOLL [WB#1636] \\\"(Published Stop)\\\"\", \"E GORHAM & N LIVINGSTON [WB#1996]\", \"E GORHAM & N PATERSON [WB#1834]\", \"E JOHNSON & FORDEM [WB#1892]\", \"E JOHNSON & N DICKINSON [WB#1798]\", \"E MIFFLIN & N PINCKNEY [WB#1100] \\\"(Published Stop)\\\"\", \"FORDEM & LAKEWOOD [SB#1116]\", \"FORDEM & MCGUIRE [SB#1692] \\\"(Published Stop)\\\"\", \"HEATHER & HILLDALE MALL [WB#2500]\", \"HIGHLAND & MARSH [WB#2620]\", \"HIGHLAND & OBSERVATORY [NB#2125]\", \"HIGHLAND & UNIVERSITY [NB#2643] \\\"(Published Stop)\\\"\", \"HIGHLAND & V A HOSPITAL [NB#2393]\", \"HIGHLAND & WAISMAN [SB#2770]\", \"HUXLEY & NORTH TRANSFER [NB#5100] \\\"(Published Stop)\\\"\", \"N BALDWIN & SHERMAN [SB#1936]\", \"N HAMILTON & E GORHAM [SB#1404 \\\\\", \"N HAMILTON & E JOHNSON [SB#1966]\", \"N MIDVALE & HILLDALE ROW [SB#2362]\", \"N MIDVALE & UNIVERSITY [SB#2812]\", \"N SEGOE & KELAB [NB#2199]\", \"N SHERMAN & ABERG [SB#1922]\", \"N SHERMAN & COMMERCIAL [SB#1156]\", \"N SHERMAN & FORDEM [SB#1968]\", \"N SHERMAN & OXFORD [SB#1122]\", \"N SHERMAN & ROTH [SB#1254]\", \"REGENT & EAU CLAIRE [WB#2138]\", \"S WHITNEY & 126 [SB#2898]\", \"S WHITNEY & MINERAL POINT [SB#2670]\", \"S WHITNEY & REGENT [SB#2798]\", \"S WHITNEY & SCIENCE [SB#2984]\", \"S WHITNEY & SOUTH HILL [SB#2684]\", \"SHEBOYGAN & EAU CLAIRE [WB#2376] \\\"(Published Stop)\\\"\", \"SHEBOYGAN & N SEGOE [WB#2184]\", \"SHEBOYGAN & STATE OFFICE [WB#2100]\", \"SHERMAN & MCGUIRE [SB#1296]\", \"SHERMAN & N THORNTON [WB#1354]\", \"SHERMAN & SHERMAN [WB#1838] \\\"(Published Stop)\\\"\", \"STATE & W DAYTON [WB#1558]\", \"STATE & W GORHAM [WB#0252]\", \"STATE & W JOHNSON [WB#0898]\", \"TOKAY & WEST TRANSFER [WB#6100] \\\"(Published Stop)\\\"\", \"UNIVERSITY & FOREST [WB#2146]\", \"UNIVERSITY & N BLACKHAWK [WB#2266]\", \"UNIVERSITY & N BREESE [WB#0692]\", \"UNIVERSITY & N FRANCES [WB#0568]\", \"UNIVERSITY & N LAKE [WB#0670]\", \"UNIVERSITY & N MILLS [WB#0234]\", \"UNIVERSITY & N ORCHARD [WB#0178]\", \"UNIVERSITY & N PARK [WB#0100] \\\"(Published Stop)\\\"\", \"UNIVERSITY & N RANDALL [WB#0160]\", \"UNIVERSITY & PRINCETON [WB#2806]\", \"UNIVERSITY & RIDGE [WB#2270]\", \"UNIVERSITY & SHOREWOOD [WB#2712]\", \"UNIVERSITY & UNIVERSITY BAY [WB#2698]\", \"UNIVERSITY & WALNUT [WB#2192]\", \"UNIVERSITY BAY & MARSHALL [SB#2576]\", \"W MIFFLIN & N CARROLL [WB#1310]\"]\n",
    "\n",
    "len(north_transfer)"
   ],
   "metadata": {
    "collapsed": false,
    "pycharm": {
     "name": "#%%\n"
    }
   }
  }
 ],
 "metadata": {
  "kernelspec": {
   "display_name": "Python 3",
   "language": "python",
   "name": "python3"
  },
  "language_info": {
   "codemirror_mode": {
    "name": "ipython",
    "version": 2
   },
   "file_extension": ".py",
   "mimetype": "text/x-python",
   "name": "python",
   "nbconvert_exporter": "python",
   "pygments_lexer": "ipython2",
   "version": "2.7.6"
  }
 },
 "nbformat": 4,
 "nbformat_minor": 0
}