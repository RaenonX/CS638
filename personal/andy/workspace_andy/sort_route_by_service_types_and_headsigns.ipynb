{
 "cells": [
  {
   "cell_type": "code",
   "execution_count": 31,
   "metadata": {
    "collapsed": true,
    "pycharm": {
     "name": "#%%\n"
    }
   },
   "outputs": [],
   "source": [
    "import geopandas as gpd\n",
    "import pandas as pd\n",
    "import matplotlib.pyplot as plt\n",
    "import functions\n",
    "import os\n"
   ]
  },
  {
   "cell_type": "code",
   "execution_count": 11,
   "outputs": [
    {
     "data": {
      "text/plain": "   route_id  route_short_name service_id  trip_id  \\\n1      9028                 2     92_WKD  1007843   \n2      9028                 2     92_WKD  1007844   \n3      9028                 2     92_WKD  1007499   \n4      9028                 2     92_WKD  1007497   \n5      9028                 2     92_WKD  1007481   \n\n                 trip_headsign  direction_id  direction_name  block_id  \\\n1  NORTH TRANSFER: VIA SHERMAN             0  North Transfer    194263   \n2   NORTH TRANSFER: VIA FORDEM             0  North Transfer    194056   \n3  NORTH TRANSFER: VIA SHERMAN             0  North Transfer    194052   \n4   NORTH TRANSFER: VIA FORDEM             0  North Transfer    194058   \n5  NORTH TRANSFER: VIA SHERMAN             0  North Transfer    192750   \n\n   shape_id shape_code trip_type  trip_sort  wheelchair_accessible  \\\n1     55156         2S         W      20100                      1   \n2     55154         2F         W      21600                      1   \n3     55156         2S         D      23400                      1   \n4     55154         2F         D      25200                      1   \n5     55156         2S         D      27000                      1   \n\n   bikes_allowed  \n1              1  \n2              1  \n3              1  \n4              1  \n5              1  ",
      "text/html": "<div>\n<style scoped>\n    .dataframe tbody tr th:only-of-type {\n        vertical-align: middle;\n    }\n\n    .dataframe tbody tr th {\n        vertical-align: top;\n    }\n\n    .dataframe thead th {\n        text-align: right;\n    }\n</style>\n<table border=\"1\" class=\"dataframe\">\n  <thead>\n    <tr style=\"text-align: right;\">\n      <th></th>\n      <th>route_id</th>\n      <th>route_short_name</th>\n      <th>service_id</th>\n      <th>trip_id</th>\n      <th>trip_headsign</th>\n      <th>direction_id</th>\n      <th>direction_name</th>\n      <th>block_id</th>\n      <th>shape_id</th>\n      <th>shape_code</th>\n      <th>trip_type</th>\n      <th>trip_sort</th>\n      <th>wheelchair_accessible</th>\n      <th>bikes_allowed</th>\n    </tr>\n  </thead>\n  <tbody>\n    <tr>\n      <th>1</th>\n      <td>9028</td>\n      <td>2</td>\n      <td>92_WKD</td>\n      <td>1007843</td>\n      <td>NORTH TRANSFER: VIA SHERMAN</td>\n      <td>0</td>\n      <td>North Transfer</td>\n      <td>194263</td>\n      <td>55156</td>\n      <td>2S</td>\n      <td>W</td>\n      <td>20100</td>\n      <td>1</td>\n      <td>1</td>\n    </tr>\n    <tr>\n      <th>2</th>\n      <td>9028</td>\n      <td>2</td>\n      <td>92_WKD</td>\n      <td>1007844</td>\n      <td>NORTH TRANSFER: VIA FORDEM</td>\n      <td>0</td>\n      <td>North Transfer</td>\n      <td>194056</td>\n      <td>55154</td>\n      <td>2F</td>\n      <td>W</td>\n      <td>21600</td>\n      <td>1</td>\n      <td>1</td>\n    </tr>\n    <tr>\n      <th>3</th>\n      <td>9028</td>\n      <td>2</td>\n      <td>92_WKD</td>\n      <td>1007499</td>\n      <td>NORTH TRANSFER: VIA SHERMAN</td>\n      <td>0</td>\n      <td>North Transfer</td>\n      <td>194052</td>\n      <td>55156</td>\n      <td>2S</td>\n      <td>D</td>\n      <td>23400</td>\n      <td>1</td>\n      <td>1</td>\n    </tr>\n    <tr>\n      <th>4</th>\n      <td>9028</td>\n      <td>2</td>\n      <td>92_WKD</td>\n      <td>1007497</td>\n      <td>NORTH TRANSFER: VIA FORDEM</td>\n      <td>0</td>\n      <td>North Transfer</td>\n      <td>194058</td>\n      <td>55154</td>\n      <td>2F</td>\n      <td>D</td>\n      <td>25200</td>\n      <td>1</td>\n      <td>1</td>\n    </tr>\n    <tr>\n      <th>5</th>\n      <td>9028</td>\n      <td>2</td>\n      <td>92_WKD</td>\n      <td>1007481</td>\n      <td>NORTH TRANSFER: VIA SHERMAN</td>\n      <td>0</td>\n      <td>North Transfer</td>\n      <td>192750</td>\n      <td>55156</td>\n      <td>2S</td>\n      <td>D</td>\n      <td>27000</td>\n      <td>1</td>\n      <td>1</td>\n    </tr>\n  </tbody>\n</table>\n</div>"
     },
     "execution_count": 11,
     "metadata": {},
     "output_type": "execute_result"
    }
   ],
   "source": [
    "trips = pd.read_csv(\"../../../data/mmt_gtfs/trips.csv\") # 11,640\n",
    "stop_times = pd.read_csv(\"../../../data/mmt_gtfs/stop_times.csv\") # 431,489\n",
    "stops = pd.read_csv(\"../../../data/mmt_gtfs/stops.csv\") # 2131\n",
    "\n",
    "# route 2\n",
    "route2_trips = trips[trips[\"route_short_name\"] == 2]\n",
    "route2_trips.head()"
   ],
   "metadata": {
    "collapsed": false,
    "pycharm": {
     "name": "#%%\n"
    }
   }
  },
  {
   "cell_type": "code",
   "execution_count": 20,
   "outputs": [
    {
     "data": {
      "text/plain": "{'CAPITOL SQUARE',\n 'NORTH TRANSFER: VIA FORDEM',\n 'NORTH TRANSFER: VIA SHERMAN',\n 'WEST TRANSFER: VIA FORDEM',\n 'WEST TRANSFER: VIA SHERMAN'}"
     },
     "execution_count": 20,
     "metadata": {},
     "output_type": "execute_result"
    }
   ],
   "source": [
    "set(route2_trips[\"trip_headsign\"])"
   ],
   "metadata": {
    "collapsed": false,
    "pycharm": {
     "name": "#%%\n"
    }
   }
  },
  {
   "cell_type": "code",
   "execution_count": 24,
   "outputs": [
    {
     "data": {
      "text/plain": "       route_id  route_short_name service_id  trip_id   trip_headsign  \\\n36         9028                 2     92_WKD  1007500  CAPITOL SQUARE   \n1468       9028                 2     92_SAT  1007568  CAPITOL SQUARE   \n2453       9028                 2     92_SUN  1007636  CAPITOL SQUARE   \n4283       9028                 2     92_MWK  1007772  CAPITOL SQUARE   \n5892       9279                 2     93_WKD  1019346  CAPITOL SQUARE   \n7325       9279                 2     93_SAT  1019418  CAPITOL SQUARE   \n8310       9279                 2     93_SUN  1019486  CAPITOL SQUARE   \n10140      9279                 2     93_MWK  1019612  CAPITOL SQUARE   \n\n       direction_id  direction_name  block_id  shape_id shape_code trip_type  \\\n36                0  North Transfer    194055     55155         2Q         H   \n1468              0  North Transfer    194074     55155         2Q         H   \n2453              0  North Transfer    194088     55155         2Q         H   \n4283              0  North Transfer    194116     55155         2Q         H   \n5892              0  North Transfer    195020     56619         2Q         H   \n7325              0  North Transfer    195036     56619         2Q         H   \n8310              0  North Transfer    195050     56619         2Q         H   \n10140             0  North Transfer    195077     56619         2Q         H   \n\n       trip_sort  wheelchair_accessible  bikes_allowed  \n36         82800                      1              1  \n1468       82800                      1              1  \n2453       82800                      1              1  \n4283       82800                      1              1  \n5892       82800                      1              1  \n7325       82800                      1              1  \n8310       82800                      1              1  \n10140      82800                      1              1  ",
      "text/html": "<div>\n<style scoped>\n    .dataframe tbody tr th:only-of-type {\n        vertical-align: middle;\n    }\n\n    .dataframe tbody tr th {\n        vertical-align: top;\n    }\n\n    .dataframe thead th {\n        text-align: right;\n    }\n</style>\n<table border=\"1\" class=\"dataframe\">\n  <thead>\n    <tr style=\"text-align: right;\">\n      <th></th>\n      <th>route_id</th>\n      <th>route_short_name</th>\n      <th>service_id</th>\n      <th>trip_id</th>\n      <th>trip_headsign</th>\n      <th>direction_id</th>\n      <th>direction_name</th>\n      <th>block_id</th>\n      <th>shape_id</th>\n      <th>shape_code</th>\n      <th>trip_type</th>\n      <th>trip_sort</th>\n      <th>wheelchair_accessible</th>\n      <th>bikes_allowed</th>\n    </tr>\n  </thead>\n  <tbody>\n    <tr>\n      <th>36</th>\n      <td>9028</td>\n      <td>2</td>\n      <td>92_WKD</td>\n      <td>1007500</td>\n      <td>CAPITOL SQUARE</td>\n      <td>0</td>\n      <td>North Transfer</td>\n      <td>194055</td>\n      <td>55155</td>\n      <td>2Q</td>\n      <td>H</td>\n      <td>82800</td>\n      <td>1</td>\n      <td>1</td>\n    </tr>\n    <tr>\n      <th>1468</th>\n      <td>9028</td>\n      <td>2</td>\n      <td>92_SAT</td>\n      <td>1007568</td>\n      <td>CAPITOL SQUARE</td>\n      <td>0</td>\n      <td>North Transfer</td>\n      <td>194074</td>\n      <td>55155</td>\n      <td>2Q</td>\n      <td>H</td>\n      <td>82800</td>\n      <td>1</td>\n      <td>1</td>\n    </tr>\n    <tr>\n      <th>2453</th>\n      <td>9028</td>\n      <td>2</td>\n      <td>92_SUN</td>\n      <td>1007636</td>\n      <td>CAPITOL SQUARE</td>\n      <td>0</td>\n      <td>North Transfer</td>\n      <td>194088</td>\n      <td>55155</td>\n      <td>2Q</td>\n      <td>H</td>\n      <td>82800</td>\n      <td>1</td>\n      <td>1</td>\n    </tr>\n    <tr>\n      <th>4283</th>\n      <td>9028</td>\n      <td>2</td>\n      <td>92_MWK</td>\n      <td>1007772</td>\n      <td>CAPITOL SQUARE</td>\n      <td>0</td>\n      <td>North Transfer</td>\n      <td>194116</td>\n      <td>55155</td>\n      <td>2Q</td>\n      <td>H</td>\n      <td>82800</td>\n      <td>1</td>\n      <td>1</td>\n    </tr>\n    <tr>\n      <th>5892</th>\n      <td>9279</td>\n      <td>2</td>\n      <td>93_WKD</td>\n      <td>1019346</td>\n      <td>CAPITOL SQUARE</td>\n      <td>0</td>\n      <td>North Transfer</td>\n      <td>195020</td>\n      <td>56619</td>\n      <td>2Q</td>\n      <td>H</td>\n      <td>82800</td>\n      <td>1</td>\n      <td>1</td>\n    </tr>\n    <tr>\n      <th>7325</th>\n      <td>9279</td>\n      <td>2</td>\n      <td>93_SAT</td>\n      <td>1019418</td>\n      <td>CAPITOL SQUARE</td>\n      <td>0</td>\n      <td>North Transfer</td>\n      <td>195036</td>\n      <td>56619</td>\n      <td>2Q</td>\n      <td>H</td>\n      <td>82800</td>\n      <td>1</td>\n      <td>1</td>\n    </tr>\n    <tr>\n      <th>8310</th>\n      <td>9279</td>\n      <td>2</td>\n      <td>93_SUN</td>\n      <td>1019486</td>\n      <td>CAPITOL SQUARE</td>\n      <td>0</td>\n      <td>North Transfer</td>\n      <td>195050</td>\n      <td>56619</td>\n      <td>2Q</td>\n      <td>H</td>\n      <td>82800</td>\n      <td>1</td>\n      <td>1</td>\n    </tr>\n    <tr>\n      <th>10140</th>\n      <td>9279</td>\n      <td>2</td>\n      <td>93_MWK</td>\n      <td>1019612</td>\n      <td>CAPITOL SQUARE</td>\n      <td>0</td>\n      <td>North Transfer</td>\n      <td>195077</td>\n      <td>56619</td>\n      <td>2Q</td>\n      <td>H</td>\n      <td>82800</td>\n      <td>1</td>\n      <td>1</td>\n    </tr>\n  </tbody>\n</table>\n</div>"
     },
     "execution_count": 24,
     "metadata": {},
     "output_type": "execute_result"
    }
   ],
   "source": [
    "route2_trips[route2_trips[\"trip_headsign\"] == \"CAPITOL SQUARE\"]"
   ],
   "metadata": {
    "collapsed": false,
    "pycharm": {
     "name": "#%%\n"
    }
   }
  },
  {
   "cell_type": "code",
   "execution_count": 50,
   "outputs": [],
   "source": [
    "def write_directions(route_num):\n",
    "    route_df = trips[trips[\"route_short_name\"] == route_num]\n",
    "    for service in list(set(route_df[\"service_id\"])):\n",
    "        if service[:2] != \"92\":\n",
    "            continue\n",
    "        service_df = route_df[route_df[\"service_id\"] == service]\n",
    "        for headsign in list(set(service_df[\"trip_headsign\"])):\n",
    "            trip_id = service_df[service_df[\"trip_headsign\"] == headsign].iloc[0, 3]\n",
    "            df = stop_times[stop_times[\"trip_id\"] == trip_id][[\"stop_sequence\", \"stop_id\",\n",
    "                                                               \"arrival_time\", \"departure_time\",\n",
    "                                                               \"stop_headsign\", \"shape_dist_traveled\"]]\n",
    "            df = df.reset_index(drop=True)\n",
    "            dirname = service\n",
    "            if not os.path.exists(os.path.join(\"routes\", dirname)):\n",
    "                os.mkdir(os.path.join(\"routes\", dirname))\n",
    "            filename = \"route\" + str(route_num) + \"_\" +\\\n",
    "                       headsign.replace(\" \", \"_\").replace(\":\", \"\").lower() + \".csv\"\n",
    "            filepath = os.path.join(\"routes\", dirname, filename)\n",
    "            df.to_csv(path_or_buf=filepath, index=False)\n",
    "\n",
    "for route_num in list(functions.get_num_stops_of_route().keys()):\n",
    "    write_directions(route_num)"
   ],
   "metadata": {
    "collapsed": false,
    "pycharm": {
     "name": "#%%\n"
    }
   }
  },
  {
   "cell_type": "code",
   "execution_count": 48,
   "outputs": [
    {
     "data": {
      "text/plain": "{2: [[57, 58, 58, 57, 37],\n  [57, 58, 58, 57, 37],\n  [57, 58, 58, 57, 37],\n  [58, 57, 57, 58],\n  [57, 58, 58, 57, 37]],\n 4: [[59, 55], [59, 55], [59, 55], [59, 55], [59, 55]],\n 5: [[19, 20, 46], [19, 20, 46], [19, 45, 46], [20, 46], [19, 20, 46]],\n 6: [[82, 70, 34, 80, 70, 43, 42, 28, 78],\n  [82, 70, 34, 80, 70, 43, 42, 28, 78],\n  [87, 82, 70, 80, 70, 43, 28, 78],\n  [82, 70, 34, 70, 42, 78],\n  [82, 70, 34, 80, 70, 43, 42, 28, 78]],\n 7: [[55, 56], [55, 56], [55, 56], [55, 56], [55, 56]],\n 8: [[39, 30], [39, 30], [39, 30], [39, 30], [39, 30]],\n 10: [[47, 51, 36, 35]],\n 11: [[36, 55, 39, 58]],\n 12: [[26, 38]],\n 13: [[30, 28], [30, 28], [30, 28], [30, 28], [30, 28]],\n 15: [[43, 58, 58]],\n 16: [[20, 40, 20], [20, 40, 20], [20, 40, 20], [20, 40, 20], [20, 40, 20]],\n 17: [[10, 10], [10, 10], [10, 10], [10, 10], [10, 10]],\n 18: [[30, 37, 27, 40, 29],\n  [30, 37, 27, 40, 29],\n  [30, 37, 33, 40, 29, 32],\n  [30, 37, 27, 40, 29],\n  [30, 37, 27, 40, 29]],\n 20: [[27, 28], [27, 28], [27, 28], [27, 28], [27, 28]],\n 21: [[26], [26], [26], [26], [26]],\n 22: [[26], [26], [26], [26], [26]],\n 23: [[13, 21, 18, 16]],\n 26: [[31, 30], [31, 30], [31, 30], [31, 30], [31, 30]],\n 27: [[37, 36, 22, 24]],\n 30: [[19, 19, 18, 18],\n  [19, 19, 18, 18],\n  [19, 19, 18, 18],\n  [19, 19, 18, 18],\n  [19, 19, 18, 18]],\n 31: [[40, 31, 34], [40, 31, 34], [40, 31, 34], [31, 34], [40, 31, 34]],\n 32: [[41], [41], [41], [41], [41]],\n 33: [[29]],\n 36: [[12], [12], [12], [12], [12]],\n 39: [[36]],\n 40: [[23], [23], [32, 23], [23], [23]],\n 44: [[30, 30]],\n 48: [[15, 14]],\n 49: [[29, 28]],\n 50: [[25], [25], [25], [25], [25]],\n 51: [[40], [40], [27], [40], [40]],\n 52: [[13, 11]],\n 55: [[13, 13], [13, 13]],\n 59: [[13, 26, 8, 24], [13, 26, 8, 24], [26, 8, 24], [13, 26, 8, 24]],\n 63: [[22, 22], [22, 22], [22, 22], [22, 22]],\n 67: [[26], [26], [10, 26], [26], [26]],\n 68: [[37, 34], [37, 34], [37, 34], [37, 34]],\n 70: [[57, 60, 60, 64]],\n 72: [[49, 46, 60, 56]],\n 73: [[35, 33, 24, 34, 24, 36]],\n 75: [[22, 21], [22, 21]],\n 78: [[40, 24, 24, 39], [40, 24, 24, 39], [40, 24, 24, 39]],\n 80: [[30, 28, 9],\n  [30, 28, 9],\n  [30, 28, 9, 18],\n  [30, 28],\n  [30, 28],\n  [47, 28],\n  [30, 28],\n  [30, 28],\n  [47, 28]],\n 81: [[28], [28], [28], [28]],\n 82: [[26], [26], [26], [26]],\n 84: [[9, 20, 7], [9, 20, 7], [20, 20, 7]]}"
     },
     "execution_count": 48,
     "metadata": {},
     "output_type": "execute_result"
    }
   ],
   "source": [
    "def check_length(route_num):\n",
    "    route_df = trips[trips[\"route_short_name\"] == route_num]\n",
    "    num_stops = []\n",
    "    for service in list(set(route_df[\"service_id\"])):\n",
    "        by_service = []\n",
    "        if service[:2] != \"92\":\n",
    "            continue\n",
    "        service_df = route_df[route_df[\"service_id\"] == service]\n",
    "        for headsign in list(set(service_df[\"trip_headsign\"])):\n",
    "            trip_id = service_df[service_df[\"trip_headsign\"] == headsign].iloc[0, 3]\n",
    "            df = stop_times[(stop_times[\"trip_id\"] == trip_id)]\n",
    "            by_service.append(len(df))\n",
    "        num_stops.append(by_service)\n",
    "    return num_stops\n",
    "\n",
    "routes = dict()\n",
    "for route_num in list(functions.get_num_stops_of_route().keys()):\n",
    "    routes[route_num] = check_length(route_num)\n",
    "\n",
    "routes"
   ],
   "metadata": {
    "collapsed": false,
    "pycharm": {
     "name": "#%%\n"
    }
   }
  },
  {
   "cell_type": "code",
   "execution_count": null,
   "outputs": [],
   "source": [],
   "metadata": {
    "collapsed": false,
    "pycharm": {
     "name": "#%%\n"
    }
   }
  }
 ],
 "metadata": {
  "kernelspec": {
   "display_name": "Python 3",
   "language": "python",
   "name": "python3"
  },
  "language_info": {
   "codemirror_mode": {
    "name": "ipython",
    "version": 2
   },
   "file_extension": ".py",
   "mimetype": "text/x-python",
   "name": "python",
   "nbconvert_exporter": "python",
   "pygments_lexer": "ipython2",
   "version": "2.7.6"
  }
 },
 "nbformat": 4,
 "nbformat_minor": 0
}