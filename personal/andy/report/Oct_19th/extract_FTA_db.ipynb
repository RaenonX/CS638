{
 "cells": [
  {
   "cell_type": "code",
   "execution_count": 51,
   "metadata": {
    "collapsed": true
   },
   "outputs": [],
   "source": [
    "import pandas as pd\n",
    "import geopandas as gpd\n"
   ]
  },
  {
   "cell_type": "code",
   "execution_count": 52,
   "outputs": [],
   "source": [
    "routes  = pd.read_csv(\"../../../../data/mmt_gtfs/routes/all_routes.csv\")\n",
    "trips   = pd.read_csv(\"../../../../data/mmt_gtfs/trips.csv\")  # 11,640 different trips\n",
    "colored = gpd.read_file(\"../../../../data/bus_route_stop_info/routes_colored-shp\")"
   ],
   "metadata": {
    "collapsed": false,
    "pycharm": {
     "name": "#%%\n"
    }
   }
  },
  {
   "cell_type": "code",
   "execution_count": 53,
   "outputs": [
    {
     "data": {
      "text/plain": "{'CAPITOL SQUARE',\n 'CAPITOL SQUARE-DUTCH MILL',\n 'CAPITOL SQUARE-WEST TRANSFER',\n 'CAPITOL SQUARE: VIA ALLEN',\n 'CAPITOL SQUARE: VIA AMERICAN CENTER',\n 'CAPITOL SQUARE: VIA BRANCH',\n 'CAPITOL SQUARE: VIA DISCOVERY',\n 'CAPITOL SQUARE: VIA PARK & RIDE',\n 'CAPITOL SQUARE: VIA TERRACE',\n 'CAPITOL SQUARE: VIA VERONA',\n 'DROP OFFS ONLY',\n 'DUTCH MILL',\n 'E TOWNE',\n 'E TOWNE: VIA AIRPORT',\n 'E TOWNE: VIA AMERICAN CENTER',\n 'E TOWNE: VIA AMERICAN CENTER: VIA CITY VIEW',\n 'E TOWNE: VIA CITY VIEW',\n 'E TOWNE: VIA CITY VIEW: VIA AMERICAN CENTER',\n 'E TOWNE: VIA E SPRINGS',\n 'E TOWNE: VIA HAYES',\n 'E TOWNE: VIA MADISON COLLEGE',\n 'E TOWNE: VIA MADISON COLLEGE & HAYES',\n 'E TOWNE: VIA MINERAL POINT: VIA HAYES',\n 'E TOWNE: VIA MINERAL POINT: VIA MADISON COLLEGE & HAYES',\n 'E TOWNE: VIA NAKOOSA',\n 'E TOWNE: VIA SWANTON',\n 'E TOWNE: VIA TOKAY: VIA MADISON COLLEGE',\n 'EAGLE HEIGHTS',\n 'EAGLE HEIGHTS: LIMITED STOPS',\n 'EAST TRANSFER',\n 'EAST TRANSFER: VIA BROADWAY',\n 'EAST TRANSFER: VIA DEMPSEY: VIA WORLD DAIRY',\n 'EAST TRANSFER: VIA HIGH POINT: VIA OLD MIDDLETON',\n 'EAST TRANSFER: VIA MONROE',\n 'EAST TRANSFER: VIA NAKOOSA',\n 'EAST TRANSFER: VIA OLD MIDDLETON',\n 'EAST TRANSFER: VIA SHOPKO',\n 'EAST TRANSFER: VIA SPRECHER',\n 'EAST TRANSFER: VIA SWANTON',\n 'EAST TRANSFER: VIA THOMPSON: VIA ACEWOOD',\n 'EAST TRANSFER: VIA WORLD DAIRY',\n 'EPIC CAMPUS: VIA MIDTOWN',\n 'EPIC CAMPUS: VIA VERONA',\n 'FITCHBURG',\n 'FITCHBURG: VIA ORCHARD POINT',\n 'JUNCTION RIDGE: VIA HIGH POINT',\n 'JUNCTION RIDGE: VIA OLD MIDDLETON: VIA HIGH POINT',\n 'MARSH',\n 'MARSH: VIA DUTCH MILL',\n 'MEMORIAL UNION',\n 'MEMORIAL UNION: VIA BREESE',\n 'MEMORIAL UNION: VIA EAGLE HTS',\n 'MEMORIAL UNION: VIA JOHNSON: VIA WASHINGTON',\n 'MEMORIAL UNION: VIA OBSERVATORY: VIA BREESE',\n 'MEMORIAL UNION: VIA WASHINGTON',\n 'MIDDLETON',\n 'MIDDLETON: VIA ALLEN',\n 'MIDDLETON: VIA BRANCH',\n 'MIDDLETON: VIA DEMING',\n 'MIDDLETON: VIA DISCOVERY',\n 'MIDDLETON: VIA FOURIER',\n 'MIDDLETON: VIA SOUTH RIDGE',\n 'MIDDLETON: VIA TERRACE',\n 'NORTH TRANSFER',\n 'NORTH TRANSFER: VIA AIRPORT',\n 'NORTH TRANSFER: VIA FORDEM',\n 'NORTH TRANSFER: VIA JOHNSON',\n 'NORTH TRANSFER: VIA SHERMAN',\n 'NORTH TRANSFER: VIA SHOPKO',\n 'NORTH TRANSFER: VIA WASHINGTON',\n 'ORCHARD POINT',\n 'PRAIRIE TOWNE: VIA OLD SAUK',\n 'PRAIRIE TOWNE: VIA W TOWNE',\n 'SOUTH TRANSFER',\n 'SOUTH TRANSFER: VIA BROADWAY',\n 'SOUTH TRANSFER: VIA COHO',\n 'SOUTH TRANSFER: VIA GRANDVIEW: VIA HATCHERY HILL',\n 'SOUTH TRANSFER: VIA HAMMERSLEY',\n 'SOUTH TRANSFER: VIA HAMMERSLEY: VIA COHO',\n 'SOUTH TRANSFER: VIA HATCHERY HILL',\n 'SOUTH TRANSFER: VIA HATCHERY HILL: VIA LACY',\n 'SOUTH TRANSFER: VIA LACY',\n 'SOUTH TRANSFER: VIA LACY: VIA HATCHERY HILL',\n 'SOUTH TRANSFER: VIA MIDVALE',\n 'SOUTH TRANSFER: VIA TODD: VIA GREENWAY',\n 'SPRING HARBOR',\n 'SUN PRAIRIE',\n 'SUN PRAIRIE: VIA AMERICAN CENTER',\n 'SUN PRAIRIE: VIA PARK & RIDE',\n 'TO EAGLE HEIGHTS: LIMITED STOPS',\n 'TO EAGLE HTS',\n 'TO FOREST RUN: VIA HAYES',\n 'TO FOREST RUN: VIA MINERAL POINT: VIA HAYES',\n 'TO FRANCES',\n 'TO INGERSOLL',\n 'TO INGERSOLL: VIA HIGH POINT: VIA OLD MIDDLETON',\n 'TO INGERSOLL: VIA OLD MIDDLETON',\n 'TO INGERSOLL: VIA TOKAY',\n 'TO MARSH',\n 'TO MARSH: VIA DUTCH MILL',\n 'TO OLD SAUK',\n 'TO ORCHARD POINT',\n 'TO U.W. HOSPITAL',\n 'TO U.W. HOSPITAL: VIA EAGLE HTS',\n 'U.W. CAMPUS',\n 'U.W. CAMPUS-DUTCH MILL',\n 'U.W. CAMPUS-TO FRANCES',\n 'U.W. CAMPUS-WEST TRANSFER',\n 'U.W. CAMPUS: VIA JOHNSON',\n 'U.W. CAMPUS: VIA WASHINGTON',\n 'UNION CORNERS: VIA CAMPUS: VIA JOHNSON',\n 'UNION CORNERS: VIA JENIFER',\n 'UNION CORNERS: VIA JOHNSON',\n 'UNION CORNERS: VIA U.W. HOSPITAL: VIA JENIFER',\n 'UNIVERSITY ROW',\n 'UNIVERSITY ROW: VIA CAMPUS',\n 'UNIVERSITY ROW: VIA JENIFER: VIA U.W. HOSPITAL',\n 'UNIVERSITY ROW: VIA JOHNSON: VIA CAMPUS',\n 'UNIVERSITY ROW: VIA U.W. HOSPITAL',\n 'WEST TRANSFER',\n 'WEST TRANSFER: VIA COHO: VIA HAMMERSLEY',\n 'WEST TRANSFER: VIA DEMING',\n 'WEST TRANSFER: VIA FORDEM',\n 'WEST TRANSFER: VIA FOURIER',\n 'WEST TRANSFER: VIA HAMMERSLEY',\n 'WEST TRANSFER: VIA HAYES: VIA MINERAL POINT',\n 'WEST TRANSFER: VIA MADISON COLLEGE: VIA TOKAY',\n 'WEST TRANSFER: VIA MIDTOWN',\n 'WEST TRANSFER: VIA MIDVALE',\n 'WEST TRANSFER: VIA MINERAL POINT',\n 'WEST TRANSFER: VIA MONROE',\n 'WEST TRANSFER: VIA MUIR FIELD',\n 'WEST TRANSFER: VIA OLD SAUK',\n 'WEST TRANSFER: VIA ORCHARD POINT',\n 'WEST TRANSFER: VIA RAYMOND: VIA SCHROEDER',\n 'WEST TRANSFER: VIA SHERMAN',\n 'WEST TRANSFER: VIA SOUTH RIDGE',\n 'WEST TRANSFER: VIA TERRACE',\n 'WEST TRANSFER: VIA TOKAY',\n 'WEST TRANSFER: VIA W TOWNE'}"
     },
     "execution_count": 53,
     "metadata": {},
     "output_type": "execute_result"
    }
   ],
   "source": [
    "set(colored[\"route_shor\"]).difference(set(trips[\"route_short_name\"]))\n",
    "\n",
    "set(colored[\"route_shor\"])\n",
    "\n",
    "set(routes[\"stop_headsign\"])"
   ],
   "metadata": {
    "collapsed": false,
    "pycharm": {
     "name": "#%%\n"
    }
   }
  },
  {
   "cell_type": "code",
   "execution_count": 68,
   "outputs": [
    {
     "ename": "KeyboardInterrupt",
     "evalue": "",
     "output_type": "error",
     "traceback": [
      "\u001B[0;31m---------------------------------------------------------------------------\u001B[0m",
      "\u001B[0;31mKeyboardInterrupt\u001B[0m                         Traceback (most recent call last)",
      "\u001B[0;32m<ipython-input-68-472fea4062bf>\u001B[0m in \u001B[0;36m<module>\u001B[0;34m\u001B[0m\n\u001B[1;32m      2\u001B[0m \u001B[0;34m\u001B[0m\u001B[0m\n\u001B[1;32m      3\u001B[0m \u001B[0;31m# Unlinked Passenger Trips\u001B[0m\u001B[0;34m\u001B[0m\u001B[0;34m\u001B[0m\u001B[0;34m\u001B[0m\u001B[0m\n\u001B[0;32m----> 4\u001B[0;31m \u001B[0mupt\u001B[0m    \u001B[0;34m=\u001B[0m \u001B[0mpd\u001B[0m\u001B[0;34m.\u001B[0m\u001B[0mread_excel\u001B[0m\u001B[0;34m(\u001B[0m\u001B[0;34m\"../../../../data/FTA/August_2020_Raw_Database.xlsx\"\u001B[0m\u001B[0;34m,\u001B[0m \u001B[0msheet_name\u001B[0m\u001B[0;34m=\u001B[0m\u001B[0;34m\"UPT\"\u001B[0m\u001B[0;34m)\u001B[0m\u001B[0;34m\u001B[0m\u001B[0;34m\u001B[0m\u001B[0m\n\u001B[0m\u001B[1;32m      5\u001B[0m \u001B[0;34m\u001B[0m\u001B[0m\n\u001B[1;32m      6\u001B[0m \u001B[0;31m# Vehicle Revenue Miles\u001B[0m\u001B[0;34m\u001B[0m\u001B[0;34m\u001B[0m\u001B[0;34m\u001B[0m\u001B[0m\n",
      "\u001B[0;32m~/Library/Mobile Documents/com~apple~CloudDocs/wisc icloud/CS 638/venv/lib/python3.8/site-packages/pandas/util/_decorators.py\u001B[0m in \u001B[0;36mwrapper\u001B[0;34m(*args, **kwargs)\u001B[0m\n\u001B[1;32m    294\u001B[0m                 )\n\u001B[1;32m    295\u001B[0m                 \u001B[0mwarnings\u001B[0m\u001B[0;34m.\u001B[0m\u001B[0mwarn\u001B[0m\u001B[0;34m(\u001B[0m\u001B[0mmsg\u001B[0m\u001B[0;34m,\u001B[0m \u001B[0mFutureWarning\u001B[0m\u001B[0;34m,\u001B[0m \u001B[0mstacklevel\u001B[0m\u001B[0;34m=\u001B[0m\u001B[0mstacklevel\u001B[0m\u001B[0;34m)\u001B[0m\u001B[0;34m\u001B[0m\u001B[0;34m\u001B[0m\u001B[0m\n\u001B[0;32m--> 296\u001B[0;31m             \u001B[0;32mreturn\u001B[0m \u001B[0mfunc\u001B[0m\u001B[0;34m(\u001B[0m\u001B[0;34m*\u001B[0m\u001B[0margs\u001B[0m\u001B[0;34m,\u001B[0m \u001B[0;34m**\u001B[0m\u001B[0mkwargs\u001B[0m\u001B[0;34m)\u001B[0m\u001B[0;34m\u001B[0m\u001B[0;34m\u001B[0m\u001B[0m\n\u001B[0m\u001B[1;32m    297\u001B[0m \u001B[0;34m\u001B[0m\u001B[0m\n\u001B[1;32m    298\u001B[0m         \u001B[0;32mreturn\u001B[0m \u001B[0mwrapper\u001B[0m\u001B[0;34m\u001B[0m\u001B[0;34m\u001B[0m\u001B[0m\n",
      "\u001B[0;32m~/Library/Mobile Documents/com~apple~CloudDocs/wisc icloud/CS 638/venv/lib/python3.8/site-packages/pandas/io/excel/_base.py\u001B[0m in \u001B[0;36mread_excel\u001B[0;34m(io, sheet_name, header, names, index_col, usecols, squeeze, dtype, engine, converters, true_values, false_values, skiprows, nrows, na_values, keep_default_na, na_filter, verbose, parse_dates, date_parser, thousands, comment, skipfooter, convert_float, mangle_dupe_cols)\u001B[0m\n\u001B[1;32m    302\u001B[0m \u001B[0;34m\u001B[0m\u001B[0m\n\u001B[1;32m    303\u001B[0m     \u001B[0;32mif\u001B[0m \u001B[0;32mnot\u001B[0m \u001B[0misinstance\u001B[0m\u001B[0;34m(\u001B[0m\u001B[0mio\u001B[0m\u001B[0;34m,\u001B[0m \u001B[0mExcelFile\u001B[0m\u001B[0;34m)\u001B[0m\u001B[0;34m:\u001B[0m\u001B[0;34m\u001B[0m\u001B[0;34m\u001B[0m\u001B[0m\n\u001B[0;32m--> 304\u001B[0;31m         \u001B[0mio\u001B[0m \u001B[0;34m=\u001B[0m \u001B[0mExcelFile\u001B[0m\u001B[0;34m(\u001B[0m\u001B[0mio\u001B[0m\u001B[0;34m,\u001B[0m \u001B[0mengine\u001B[0m\u001B[0;34m=\u001B[0m\u001B[0mengine\u001B[0m\u001B[0;34m)\u001B[0m\u001B[0;34m\u001B[0m\u001B[0;34m\u001B[0m\u001B[0m\n\u001B[0m\u001B[1;32m    305\u001B[0m     \u001B[0;32melif\u001B[0m \u001B[0mengine\u001B[0m \u001B[0;32mand\u001B[0m \u001B[0mengine\u001B[0m \u001B[0;34m!=\u001B[0m \u001B[0mio\u001B[0m\u001B[0;34m.\u001B[0m\u001B[0mengine\u001B[0m\u001B[0;34m:\u001B[0m\u001B[0;34m\u001B[0m\u001B[0;34m\u001B[0m\u001B[0m\n\u001B[1;32m    306\u001B[0m         raise ValueError(\n",
      "\u001B[0;32m~/Library/Mobile Documents/com~apple~CloudDocs/wisc icloud/CS 638/venv/lib/python3.8/site-packages/pandas/io/excel/_base.py\u001B[0m in \u001B[0;36m__init__\u001B[0;34m(self, path_or_buffer, engine)\u001B[0m\n\u001B[1;32m    865\u001B[0m         \u001B[0mself\u001B[0m\u001B[0;34m.\u001B[0m\u001B[0m_io\u001B[0m \u001B[0;34m=\u001B[0m \u001B[0mstringify_path\u001B[0m\u001B[0;34m(\u001B[0m\u001B[0mpath_or_buffer\u001B[0m\u001B[0;34m)\u001B[0m\u001B[0;34m\u001B[0m\u001B[0;34m\u001B[0m\u001B[0m\n\u001B[1;32m    866\u001B[0m \u001B[0;34m\u001B[0m\u001B[0m\n\u001B[0;32m--> 867\u001B[0;31m         \u001B[0mself\u001B[0m\u001B[0;34m.\u001B[0m\u001B[0m_reader\u001B[0m \u001B[0;34m=\u001B[0m \u001B[0mself\u001B[0m\u001B[0;34m.\u001B[0m\u001B[0m_engines\u001B[0m\u001B[0;34m[\u001B[0m\u001B[0mengine\u001B[0m\u001B[0;34m]\u001B[0m\u001B[0;34m(\u001B[0m\u001B[0mself\u001B[0m\u001B[0;34m.\u001B[0m\u001B[0m_io\u001B[0m\u001B[0;34m)\u001B[0m\u001B[0;34m\u001B[0m\u001B[0;34m\u001B[0m\u001B[0m\n\u001B[0m\u001B[1;32m    868\u001B[0m \u001B[0;34m\u001B[0m\u001B[0m\n\u001B[1;32m    869\u001B[0m     \u001B[0;32mdef\u001B[0m \u001B[0m__fspath__\u001B[0m\u001B[0;34m(\u001B[0m\u001B[0mself\u001B[0m\u001B[0;34m)\u001B[0m\u001B[0;34m:\u001B[0m\u001B[0;34m\u001B[0m\u001B[0;34m\u001B[0m\u001B[0m\n",
      "\u001B[0;32m~/Library/Mobile Documents/com~apple~CloudDocs/wisc icloud/CS 638/venv/lib/python3.8/site-packages/pandas/io/excel/_xlrd.py\u001B[0m in \u001B[0;36m__init__\u001B[0;34m(self, filepath_or_buffer)\u001B[0m\n\u001B[1;32m     20\u001B[0m         \u001B[0merr_msg\u001B[0m \u001B[0;34m=\u001B[0m \u001B[0;34m\"Install xlrd >= 1.0.0 for Excel support\"\u001B[0m\u001B[0;34m\u001B[0m\u001B[0;34m\u001B[0m\u001B[0m\n\u001B[1;32m     21\u001B[0m         \u001B[0mimport_optional_dependency\u001B[0m\u001B[0;34m(\u001B[0m\u001B[0;34m\"xlrd\"\u001B[0m\u001B[0;34m,\u001B[0m \u001B[0mextra\u001B[0m\u001B[0;34m=\u001B[0m\u001B[0merr_msg\u001B[0m\u001B[0;34m)\u001B[0m\u001B[0;34m\u001B[0m\u001B[0;34m\u001B[0m\u001B[0m\n\u001B[0;32m---> 22\u001B[0;31m         \u001B[0msuper\u001B[0m\u001B[0;34m(\u001B[0m\u001B[0;34m)\u001B[0m\u001B[0;34m.\u001B[0m\u001B[0m__init__\u001B[0m\u001B[0;34m(\u001B[0m\u001B[0mfilepath_or_buffer\u001B[0m\u001B[0;34m)\u001B[0m\u001B[0;34m\u001B[0m\u001B[0;34m\u001B[0m\u001B[0m\n\u001B[0m\u001B[1;32m     23\u001B[0m \u001B[0;34m\u001B[0m\u001B[0m\n\u001B[1;32m     24\u001B[0m     \u001B[0;34m@\u001B[0m\u001B[0mproperty\u001B[0m\u001B[0;34m\u001B[0m\u001B[0;34m\u001B[0m\u001B[0m\n",
      "\u001B[0;32m~/Library/Mobile Documents/com~apple~CloudDocs/wisc icloud/CS 638/venv/lib/python3.8/site-packages/pandas/io/excel/_base.py\u001B[0m in \u001B[0;36m__init__\u001B[0;34m(self, filepath_or_buffer)\u001B[0m\n\u001B[1;32m    351\u001B[0m             \u001B[0mself\u001B[0m\u001B[0;34m.\u001B[0m\u001B[0mbook\u001B[0m \u001B[0;34m=\u001B[0m \u001B[0mself\u001B[0m\u001B[0;34m.\u001B[0m\u001B[0mload_workbook\u001B[0m\u001B[0;34m(\u001B[0m\u001B[0mfilepath_or_buffer\u001B[0m\u001B[0;34m)\u001B[0m\u001B[0;34m\u001B[0m\u001B[0;34m\u001B[0m\u001B[0m\n\u001B[1;32m    352\u001B[0m         \u001B[0;32melif\u001B[0m \u001B[0misinstance\u001B[0m\u001B[0;34m(\u001B[0m\u001B[0mfilepath_or_buffer\u001B[0m\u001B[0;34m,\u001B[0m \u001B[0mstr\u001B[0m\u001B[0;34m)\u001B[0m\u001B[0;34m:\u001B[0m\u001B[0;34m\u001B[0m\u001B[0;34m\u001B[0m\u001B[0m\n\u001B[0;32m--> 353\u001B[0;31m             \u001B[0mself\u001B[0m\u001B[0;34m.\u001B[0m\u001B[0mbook\u001B[0m \u001B[0;34m=\u001B[0m \u001B[0mself\u001B[0m\u001B[0;34m.\u001B[0m\u001B[0mload_workbook\u001B[0m\u001B[0;34m(\u001B[0m\u001B[0mfilepath_or_buffer\u001B[0m\u001B[0;34m)\u001B[0m\u001B[0;34m\u001B[0m\u001B[0;34m\u001B[0m\u001B[0m\n\u001B[0m\u001B[1;32m    354\u001B[0m         \u001B[0;32melif\u001B[0m \u001B[0misinstance\u001B[0m\u001B[0;34m(\u001B[0m\u001B[0mfilepath_or_buffer\u001B[0m\u001B[0;34m,\u001B[0m \u001B[0mbytes\u001B[0m\u001B[0;34m)\u001B[0m\u001B[0;34m:\u001B[0m\u001B[0;34m\u001B[0m\u001B[0;34m\u001B[0m\u001B[0m\n\u001B[1;32m    355\u001B[0m             \u001B[0mself\u001B[0m\u001B[0;34m.\u001B[0m\u001B[0mbook\u001B[0m \u001B[0;34m=\u001B[0m \u001B[0mself\u001B[0m\u001B[0;34m.\u001B[0m\u001B[0mload_workbook\u001B[0m\u001B[0;34m(\u001B[0m\u001B[0mBytesIO\u001B[0m\u001B[0;34m(\u001B[0m\u001B[0mfilepath_or_buffer\u001B[0m\u001B[0;34m)\u001B[0m\u001B[0;34m)\u001B[0m\u001B[0;34m\u001B[0m\u001B[0;34m\u001B[0m\u001B[0m\n",
      "\u001B[0;32m~/Library/Mobile Documents/com~apple~CloudDocs/wisc icloud/CS 638/venv/lib/python3.8/site-packages/pandas/io/excel/_xlrd.py\u001B[0m in \u001B[0;36mload_workbook\u001B[0;34m(self, filepath_or_buffer)\u001B[0m\n\u001B[1;32m     35\u001B[0m             \u001B[0;32mreturn\u001B[0m \u001B[0mopen_workbook\u001B[0m\u001B[0;34m(\u001B[0m\u001B[0mfile_contents\u001B[0m\u001B[0;34m=\u001B[0m\u001B[0mdata\u001B[0m\u001B[0;34m)\u001B[0m\u001B[0;34m\u001B[0m\u001B[0;34m\u001B[0m\u001B[0m\n\u001B[1;32m     36\u001B[0m         \u001B[0;32melse\u001B[0m\u001B[0;34m:\u001B[0m\u001B[0;34m\u001B[0m\u001B[0;34m\u001B[0m\u001B[0m\n\u001B[0;32m---> 37\u001B[0;31m             \u001B[0;32mreturn\u001B[0m \u001B[0mopen_workbook\u001B[0m\u001B[0;34m(\u001B[0m\u001B[0mfilepath_or_buffer\u001B[0m\u001B[0;34m)\u001B[0m\u001B[0;34m\u001B[0m\u001B[0;34m\u001B[0m\u001B[0m\n\u001B[0m\u001B[1;32m     38\u001B[0m \u001B[0;34m\u001B[0m\u001B[0m\n\u001B[1;32m     39\u001B[0m     \u001B[0;34m@\u001B[0m\u001B[0mproperty\u001B[0m\u001B[0;34m\u001B[0m\u001B[0;34m\u001B[0m\u001B[0m\n",
      "\u001B[0;32m~/Library/Mobile Documents/com~apple~CloudDocs/wisc icloud/CS 638/venv/lib/python3.8/site-packages/xlrd/__init__.py\u001B[0m in \u001B[0;36mopen_workbook\u001B[0;34m(filename, logfile, verbosity, use_mmap, file_contents, encoding_override, formatting_info, on_demand, ragged_rows)\u001B[0m\n\u001B[1;32m    128\u001B[0m         \u001B[0;32mif\u001B[0m \u001B[0;34m'xl/workbook.xml'\u001B[0m \u001B[0;32min\u001B[0m \u001B[0mcomponent_names\u001B[0m\u001B[0;34m:\u001B[0m\u001B[0;34m\u001B[0m\u001B[0;34m\u001B[0m\u001B[0m\n\u001B[1;32m    129\u001B[0m             \u001B[0;32mfrom\u001B[0m \u001B[0;34m.\u001B[0m \u001B[0;32mimport\u001B[0m \u001B[0mxlsx\u001B[0m\u001B[0;34m\u001B[0m\u001B[0;34m\u001B[0m\u001B[0m\n\u001B[0;32m--> 130\u001B[0;31m             bk = xlsx.open_workbook_2007_xml(\n\u001B[0m\u001B[1;32m    131\u001B[0m                 \u001B[0mzf\u001B[0m\u001B[0;34m,\u001B[0m\u001B[0;34m\u001B[0m\u001B[0;34m\u001B[0m\u001B[0m\n\u001B[1;32m    132\u001B[0m                 \u001B[0mcomponent_names\u001B[0m\u001B[0;34m,\u001B[0m\u001B[0;34m\u001B[0m\u001B[0;34m\u001B[0m\u001B[0m\n",
      "\u001B[0;32m~/Library/Mobile Documents/com~apple~CloudDocs/wisc icloud/CS 638/venv/lib/python3.8/site-packages/xlrd/xlsx.py\u001B[0m in \u001B[0;36mopen_workbook_2007_xml\u001B[0;34m(zf, component_names, logfile, verbosity, use_mmap, formatting_info, on_demand, ragged_rows)\u001B[0m\n\u001B[1;32m    839\u001B[0m         \u001B[0mx12sheet\u001B[0m \u001B[0;34m=\u001B[0m \u001B[0mX12Sheet\u001B[0m\u001B[0;34m(\u001B[0m\u001B[0msheet\u001B[0m\u001B[0;34m,\u001B[0m \u001B[0mlogfile\u001B[0m\u001B[0;34m,\u001B[0m \u001B[0mverbosity\u001B[0m\u001B[0;34m)\u001B[0m\u001B[0;34m\u001B[0m\u001B[0;34m\u001B[0m\u001B[0m\n\u001B[1;32m    840\u001B[0m         \u001B[0mheading\u001B[0m \u001B[0;34m=\u001B[0m \u001B[0;34m\"Sheet %r (sheetx=%d) from %r\"\u001B[0m \u001B[0;34m%\u001B[0m \u001B[0;34m(\u001B[0m\u001B[0msheet\u001B[0m\u001B[0;34m.\u001B[0m\u001B[0mname\u001B[0m\u001B[0;34m,\u001B[0m \u001B[0msheetx\u001B[0m\u001B[0;34m,\u001B[0m \u001B[0mfname\u001B[0m\u001B[0;34m)\u001B[0m\u001B[0;34m\u001B[0m\u001B[0;34m\u001B[0m\u001B[0m\n\u001B[0;32m--> 841\u001B[0;31m         \u001B[0mx12sheet\u001B[0m\u001B[0;34m.\u001B[0m\u001B[0mprocess_stream\u001B[0m\u001B[0;34m(\u001B[0m\u001B[0mzflo\u001B[0m\u001B[0;34m,\u001B[0m \u001B[0mheading\u001B[0m\u001B[0;34m)\u001B[0m\u001B[0;34m\u001B[0m\u001B[0;34m\u001B[0m\u001B[0m\n\u001B[0m\u001B[1;32m    842\u001B[0m         \u001B[0;32mdel\u001B[0m \u001B[0mzflo\u001B[0m\u001B[0;34m\u001B[0m\u001B[0;34m\u001B[0m\u001B[0m\n\u001B[1;32m    843\u001B[0m \u001B[0;34m\u001B[0m\u001B[0m\n",
      "\u001B[0;32m~/Library/Mobile Documents/com~apple~CloudDocs/wisc icloud/CS 638/venv/lib/python3.8/site-packages/xlrd/xlsx.py\u001B[0m in \u001B[0;36mown_process_stream\u001B[0;34m(self, stream, heading)\u001B[0m\n\u001B[1;32m    548\u001B[0m         \u001B[0;32mfor\u001B[0m \u001B[0mevent\u001B[0m\u001B[0;34m,\u001B[0m \u001B[0melem\u001B[0m \u001B[0;32min\u001B[0m \u001B[0mET\u001B[0m\u001B[0;34m.\u001B[0m\u001B[0miterparse\u001B[0m\u001B[0;34m(\u001B[0m\u001B[0mstream\u001B[0m\u001B[0;34m)\u001B[0m\u001B[0;34m:\u001B[0m\u001B[0;34m\u001B[0m\u001B[0;34m\u001B[0m\u001B[0m\n\u001B[1;32m    549\u001B[0m             \u001B[0;32mif\u001B[0m \u001B[0melem\u001B[0m\u001B[0;34m.\u001B[0m\u001B[0mtag\u001B[0m \u001B[0;34m==\u001B[0m \u001B[0mrow_tag\u001B[0m\u001B[0;34m:\u001B[0m\u001B[0;34m\u001B[0m\u001B[0;34m\u001B[0m\u001B[0m\n\u001B[0;32m--> 550\u001B[0;31m                 \u001B[0mself_do_row\u001B[0m\u001B[0;34m(\u001B[0m\u001B[0melem\u001B[0m\u001B[0;34m)\u001B[0m\u001B[0;34m\u001B[0m\u001B[0;34m\u001B[0m\u001B[0m\n\u001B[0m\u001B[1;32m    551\u001B[0m                 \u001B[0melem\u001B[0m\u001B[0;34m.\u001B[0m\u001B[0mclear\u001B[0m\u001B[0;34m(\u001B[0m\u001B[0;34m)\u001B[0m \u001B[0;31m# destroy all child elements (cells)\u001B[0m\u001B[0;34m\u001B[0m\u001B[0;34m\u001B[0m\u001B[0m\n\u001B[1;32m    552\u001B[0m             \u001B[0;32melif\u001B[0m \u001B[0melem\u001B[0m\u001B[0;34m.\u001B[0m\u001B[0mtag\u001B[0m \u001B[0;34m==\u001B[0m \u001B[0mU_SSML12\u001B[0m \u001B[0;34m+\u001B[0m \u001B[0;34m\"dimension\"\u001B[0m\u001B[0;34m:\u001B[0m\u001B[0;34m\u001B[0m\u001B[0;34m\u001B[0m\u001B[0m\n",
      "\u001B[0;32m~/Library/Mobile Documents/com~apple~CloudDocs/wisc icloud/CS 638/venv/lib/python3.8/site-packages/xlrd/xlsx.py\u001B[0m in \u001B[0;36mdo_row\u001B[0;34m(self, row_elem)\u001B[0m\n\u001B[1;32m    655\u001B[0m                 \u001B[0mcharx\u001B[0m \u001B[0;34m=\u001B[0m \u001B[0;34m-\u001B[0m\u001B[0;36m1\u001B[0m\u001B[0;34m\u001B[0m\u001B[0;34m\u001B[0m\u001B[0m\n\u001B[1;32m    656\u001B[0m                 \u001B[0;32mtry\u001B[0m\u001B[0;34m:\u001B[0m\u001B[0;34m\u001B[0m\u001B[0;34m\u001B[0m\u001B[0m\n\u001B[0;32m--> 657\u001B[0;31m                     \u001B[0;32mfor\u001B[0m \u001B[0mc\u001B[0m \u001B[0;32min\u001B[0m \u001B[0mcell_name\u001B[0m\u001B[0;34m:\u001B[0m\u001B[0;34m\u001B[0m\u001B[0;34m\u001B[0m\u001B[0m\n\u001B[0m\u001B[1;32m    658\u001B[0m                         \u001B[0mcharx\u001B[0m \u001B[0;34m+=\u001B[0m \u001B[0;36m1\u001B[0m\u001B[0;34m\u001B[0m\u001B[0;34m\u001B[0m\u001B[0m\n\u001B[1;32m    659\u001B[0m                         \u001B[0;32mif\u001B[0m \u001B[0mc\u001B[0m \u001B[0;34m==\u001B[0m \u001B[0;34m'$'\u001B[0m\u001B[0;34m:\u001B[0m\u001B[0;34m\u001B[0m\u001B[0;34m\u001B[0m\u001B[0m\n",
      "\u001B[0;31mKeyboardInterrupt\u001B[0m: "
     ]
    }
   ],
   "source": [
    "master = pd.read_excel(\"../../../../data/FTA/August_2020_Raw_Database.xlsx\", sheet_name=\"MASTER\")\n",
    "\n",
    "# Unlinked Passenger Trips\n",
    "upt    = pd.read_excel(\"../../../../data/FTA/August_2020_Raw_Database.xlsx\", sheet_name=\"UPT\")\n",
    "\n",
    "# Vehicle Revenue Miles\n",
    "# - Actual vehicle miles include:\n",
    "#   • Revenue service\n",
    "#   • Deadhead\n",
    "# - Actual vehicle miles exclude:\n",
    "#   • Miles for charter service\n",
    "#   • School bus service\n",
    "#   • Operator training\n",
    "#   • Vehicle maintenance testing\n",
    "vrm    = pd.read_excel(\"../../../../data/FTA/August_2020_Raw_Database.xlsx\", sheet_name=\"VRM\")\n",
    "\n",
    "# Vehicle Revenue Hours\n",
    "vrh    = pd.read_excel(\"../../../../data/FTA/August_2020_Raw_Database.xlsx\", sheet_name=\"VRH\")\n",
    "\n",
    "# Vehicles Operated in Annual Maximum Service\n",
    "voms   = pd.read_excel(\"../../../../data/FTA/August_2020_Raw_Database.xlsx\", sheet_name=\"VOMS\")"
   ],
   "metadata": {
    "collapsed": false,
    "pycharm": {
     "name": "#%%\n"
    }
   }
  },
  {
   "cell_type": "code",
   "execution_count": 6,
   "outputs": [
    {
     "data": {
      "text/plain": "      5 digit NTD ID 4 digit NTD ID           Agency Mode TOS  Active  \\\n1063           50005           5005  City of Madison   DR  DO  Active   \n1064           50005           5005  City of Madison   DR  PT  Active   \n1065           50005           5005  City of Madison   DR  TX  Active   \n1066           50005           5005  City of Madison   MB  DO  Active   \n\n      Reporter Type  HQ City HQ State  UZA  ... Most Recent Report Year  \\\n1063  Full Reporter  Madison       WI   92  ...                  2019.0   \n1064  Full Reporter  Madison       WI   92  ...                  2019.0   \n1065  Full Reporter  Madison       WI   92  ...                  2019.0   \n1066  Full Reporter  Madison       WI   92  ...                  2019.0   \n\n      FY End Month  FY End Year  Passenger Miles FY  \\\n1063          12.0       2019.0                 NaN   \n1064          12.0       2019.0                 NaN   \n1065          12.0       2019.0            660839.0   \n1066          12.0       2019.0          50762500.0   \n\n      Unlinked Passenger Trips FY  Average Trip Length FY    Fares FY  \\\n1063                          NaN                     NaN         NaN   \n1064                          NaN                     NaN         NaN   \n1065                     113301.0                  5.8326   1502854.0   \n1066                   12856514.0                  3.9484  12403091.0   \n\n      Operating Expenses FY  Average Cost per Trip FY  \\\n1063                    NaN                       NaN   \n1064                    NaN                       NaN   \n1065              3155280.0                   27.8487   \n1066             49447862.0                    3.8461   \n\n      Average Fares per Trip FY  \n1063                        NaN  \n1064                        NaN  \n1065                    13.2643  \n1066                     0.9647  \n\n[4 rows x 25 columns]",
      "text/html": "<div>\n<style scoped>\n    .dataframe tbody tr th:only-of-type {\n        vertical-align: middle;\n    }\n\n    .dataframe tbody tr th {\n        vertical-align: top;\n    }\n\n    .dataframe thead th {\n        text-align: right;\n    }\n</style>\n<table border=\"1\" class=\"dataframe\">\n  <thead>\n    <tr style=\"text-align: right;\">\n      <th></th>\n      <th>5 digit NTD ID</th>\n      <th>4 digit NTD ID</th>\n      <th>Agency</th>\n      <th>Mode</th>\n      <th>TOS</th>\n      <th>Active</th>\n      <th>Reporter Type</th>\n      <th>HQ City</th>\n      <th>HQ State</th>\n      <th>UZA</th>\n      <th>...</th>\n      <th>Most Recent Report Year</th>\n      <th>FY End Month</th>\n      <th>FY End Year</th>\n      <th>Passenger Miles FY</th>\n      <th>Unlinked Passenger Trips FY</th>\n      <th>Average Trip Length FY</th>\n      <th>Fares FY</th>\n      <th>Operating Expenses FY</th>\n      <th>Average Cost per Trip FY</th>\n      <th>Average Fares per Trip FY</th>\n    </tr>\n  </thead>\n  <tbody>\n    <tr>\n      <th>1063</th>\n      <td>50005</td>\n      <td>5005</td>\n      <td>City of Madison</td>\n      <td>DR</td>\n      <td>DO</td>\n      <td>Active</td>\n      <td>Full Reporter</td>\n      <td>Madison</td>\n      <td>WI</td>\n      <td>92</td>\n      <td>...</td>\n      <td>2019.0</td>\n      <td>12.0</td>\n      <td>2019.0</td>\n      <td>NaN</td>\n      <td>NaN</td>\n      <td>NaN</td>\n      <td>NaN</td>\n      <td>NaN</td>\n      <td>NaN</td>\n      <td>NaN</td>\n    </tr>\n    <tr>\n      <th>1064</th>\n      <td>50005</td>\n      <td>5005</td>\n      <td>City of Madison</td>\n      <td>DR</td>\n      <td>PT</td>\n      <td>Active</td>\n      <td>Full Reporter</td>\n      <td>Madison</td>\n      <td>WI</td>\n      <td>92</td>\n      <td>...</td>\n      <td>2019.0</td>\n      <td>12.0</td>\n      <td>2019.0</td>\n      <td>NaN</td>\n      <td>NaN</td>\n      <td>NaN</td>\n      <td>NaN</td>\n      <td>NaN</td>\n      <td>NaN</td>\n      <td>NaN</td>\n    </tr>\n    <tr>\n      <th>1065</th>\n      <td>50005</td>\n      <td>5005</td>\n      <td>City of Madison</td>\n      <td>DR</td>\n      <td>TX</td>\n      <td>Active</td>\n      <td>Full Reporter</td>\n      <td>Madison</td>\n      <td>WI</td>\n      <td>92</td>\n      <td>...</td>\n      <td>2019.0</td>\n      <td>12.0</td>\n      <td>2019.0</td>\n      <td>660839.0</td>\n      <td>113301.0</td>\n      <td>5.8326</td>\n      <td>1502854.0</td>\n      <td>3155280.0</td>\n      <td>27.8487</td>\n      <td>13.2643</td>\n    </tr>\n    <tr>\n      <th>1066</th>\n      <td>50005</td>\n      <td>5005</td>\n      <td>City of Madison</td>\n      <td>MB</td>\n      <td>DO</td>\n      <td>Active</td>\n      <td>Full Reporter</td>\n      <td>Madison</td>\n      <td>WI</td>\n      <td>92</td>\n      <td>...</td>\n      <td>2019.0</td>\n      <td>12.0</td>\n      <td>2019.0</td>\n      <td>50762500.0</td>\n      <td>12856514.0</td>\n      <td>3.9484</td>\n      <td>12403091.0</td>\n      <td>49447862.0</td>\n      <td>3.8461</td>\n      <td>0.9647</td>\n    </tr>\n  </tbody>\n</table>\n<p>4 rows × 25 columns</p>\n</div>"
     },
     "execution_count": 6,
     "metadata": {},
     "output_type": "execute_result"
    }
   ],
   "source": [
    "# Mode: MB = MotorBus\n",
    "#       DR = Demand Response Mode\n",
    "\n",
    "# Type Of Service:\n",
    "# TOS:  TX = Demand Response Mode with Taxi\n",
    "#       DO = Directly Operated\n",
    "\n",
    "master[(master[\"HQ State\"] == \"WI\") & (master[\"Agency\"].str.contains(\"Madison\"))]"
   ],
   "metadata": {
    "collapsed": false,
    "pycharm": {
     "name": "#%%\n"
    }
   }
  },
  {
   "cell_type": "code",
   "execution_count": 79,
   "outputs": [
    {
     "data": {
      "text/plain": "      5 digit NTD ID 4 digit NTD ID           Agency  Active  Reporter Type  \\\n1063         50005.0           5005  City of Madison  Active  Full Reporter   \n1064         50005.0           5005  City of Madison  Active  Full Reporter   \n1065         50005.0           5005  City of Madison  Active  Full Reporter   \n1066         50005.0           5005  City of Madison  Active  Full Reporter   \n\n       UZA     UZA Name Modes TOS     JAN02  ...      NOV19     DEC19  \\\n1063  92.0  Madison, WI    DR  DO    5629.0  ...        NaN       NaN   \n1064  92.0  Madison, WI    DR  PT   13867.0  ...        NaN       NaN   \n1065  92.0  Madison, WI    DR  TX       NaN  ...     9655.0    9305.0   \n1066  92.0  Madison, WI    MB  DO  865836.0  ...  1229313.0  977125.0   \n\n          JAN20      FEB20     MAR20     APR20  MAY20  JUN20  JUL20  AUG20  \n1063        NaN        NaN       NaN       NaN    NaN    NaN    NaN    NaN  \n1064        NaN        NaN       NaN       NaN    NaN    NaN    NaN    NaN  \n1065        NaN        NaN       NaN       NaN    NaN    NaN    NaN    NaN  \n1066  1055049.0  1278838.0  689277.0  110054.0    NaN    NaN    NaN    NaN  \n\n[4 rows x 233 columns]",
      "text/html": "<div>\n<style scoped>\n    .dataframe tbody tr th:only-of-type {\n        vertical-align: middle;\n    }\n\n    .dataframe tbody tr th {\n        vertical-align: top;\n    }\n\n    .dataframe thead th {\n        text-align: right;\n    }\n</style>\n<table border=\"1\" class=\"dataframe\">\n  <thead>\n    <tr style=\"text-align: right;\">\n      <th></th>\n      <th>5 digit NTD ID</th>\n      <th>4 digit NTD ID</th>\n      <th>Agency</th>\n      <th>Active</th>\n      <th>Reporter Type</th>\n      <th>UZA</th>\n      <th>UZA Name</th>\n      <th>Modes</th>\n      <th>TOS</th>\n      <th>JAN02</th>\n      <th>...</th>\n      <th>NOV19</th>\n      <th>DEC19</th>\n      <th>JAN20</th>\n      <th>FEB20</th>\n      <th>MAR20</th>\n      <th>APR20</th>\n      <th>MAY20</th>\n      <th>JUN20</th>\n      <th>JUL20</th>\n      <th>AUG20</th>\n    </tr>\n  </thead>\n  <tbody>\n    <tr>\n      <th>1063</th>\n      <td>50005.0</td>\n      <td>5005</td>\n      <td>City of Madison</td>\n      <td>Active</td>\n      <td>Full Reporter</td>\n      <td>92.0</td>\n      <td>Madison, WI</td>\n      <td>DR</td>\n      <td>DO</td>\n      <td>5629.0</td>\n      <td>...</td>\n      <td>NaN</td>\n      <td>NaN</td>\n      <td>NaN</td>\n      <td>NaN</td>\n      <td>NaN</td>\n      <td>NaN</td>\n      <td>NaN</td>\n      <td>NaN</td>\n      <td>NaN</td>\n      <td>NaN</td>\n    </tr>\n    <tr>\n      <th>1064</th>\n      <td>50005.0</td>\n      <td>5005</td>\n      <td>City of Madison</td>\n      <td>Active</td>\n      <td>Full Reporter</td>\n      <td>92.0</td>\n      <td>Madison, WI</td>\n      <td>DR</td>\n      <td>PT</td>\n      <td>13867.0</td>\n      <td>...</td>\n      <td>NaN</td>\n      <td>NaN</td>\n      <td>NaN</td>\n      <td>NaN</td>\n      <td>NaN</td>\n      <td>NaN</td>\n      <td>NaN</td>\n      <td>NaN</td>\n      <td>NaN</td>\n      <td>NaN</td>\n    </tr>\n    <tr>\n      <th>1065</th>\n      <td>50005.0</td>\n      <td>5005</td>\n      <td>City of Madison</td>\n      <td>Active</td>\n      <td>Full Reporter</td>\n      <td>92.0</td>\n      <td>Madison, WI</td>\n      <td>DR</td>\n      <td>TX</td>\n      <td>NaN</td>\n      <td>...</td>\n      <td>9655.0</td>\n      <td>9305.0</td>\n      <td>NaN</td>\n      <td>NaN</td>\n      <td>NaN</td>\n      <td>NaN</td>\n      <td>NaN</td>\n      <td>NaN</td>\n      <td>NaN</td>\n      <td>NaN</td>\n    </tr>\n    <tr>\n      <th>1066</th>\n      <td>50005.0</td>\n      <td>5005</td>\n      <td>City of Madison</td>\n      <td>Active</td>\n      <td>Full Reporter</td>\n      <td>92.0</td>\n      <td>Madison, WI</td>\n      <td>MB</td>\n      <td>DO</td>\n      <td>865836.0</td>\n      <td>...</td>\n      <td>1229313.0</td>\n      <td>977125.0</td>\n      <td>1055049.0</td>\n      <td>1278838.0</td>\n      <td>689277.0</td>\n      <td>110054.0</td>\n      <td>NaN</td>\n      <td>NaN</td>\n      <td>NaN</td>\n      <td>NaN</td>\n    </tr>\n  </tbody>\n</table>\n<p>4 rows × 233 columns</p>\n</div>"
     },
     "execution_count": 79,
     "metadata": {},
     "output_type": "execute_result"
    }
   ],
   "source": [
    "# available since JAN02 till APR20, the rest haven't been reported\n",
    "upt_madison = upt[upt[\"Agency\"] == \"City of Madison\"]\n",
    "upt_madison"
   ],
   "metadata": {
    "collapsed": false,
    "pycharm": {
     "name": "#%%\n"
    }
   }
  },
  {
   "cell_type": "code",
   "execution_count": 58,
   "outputs": [],
   "source": [
    "# Vehicle Revenue Miles\n",
    "vrm_madison = vrm[vrm[\"Agency\"] == \"City of Madison\"]"
   ],
   "metadata": {
    "collapsed": false,
    "pycharm": {
     "name": "#%%\n"
    }
   }
  },
  {
   "cell_type": "code",
   "execution_count": 59,
   "outputs": [],
   "source": [
    "# Vehicle Revenue Hours\n",
    "vrh_madison = vrh[vrh[\"Agency\"] == \"City of Madison\"]"
   ],
   "metadata": {
    "collapsed": false,
    "pycharm": {
     "name": "#%%\n"
    }
   }
  },
  {
   "cell_type": "code",
   "execution_count": 60,
   "outputs": [],
   "source": [
    "# Vehicles Operated in Annual Maximum Service\n",
    "voms_madison = voms[voms[\"Agency\"] == \"City of Madison\"]"
   ],
   "metadata": {
    "collapsed": false,
    "pycharm": {
     "name": "#%%\n"
    }
   }
  },
  {
   "cell_type": "code",
   "execution_count": 100,
   "outputs": [],
   "source": [
    "pd.set_option('display.float_format', lambda x: '%.5f' % x)\n",
    "\n",
    "df = pd.DataFrame({\n",
    "    \"date\"            : upt_madison.loc[1066, \"JAN02\":].index,\n",
    "    \"upt_madison\"     : upt_madison.loc[1066, \"JAN02\":].values,\n",
    "    \"upt_wisc_state\"  : upt[(upt[\"Modes\"] == \"MB\") & (upt[\"UZA Name\"].str.contains(\"WI\"))].loc[:, \"JAN02\":].mean(),\n",
    "    \"upt_us\"          : upt[upt[\"Modes\"] == \"MB\"].loc[:, \"JAN02\":].mean(),\n",
    "    \"vrm_madison\"     : vrm_madison.loc[1066, \"JAN02\":].values,\n",
    "    \"vrm_wisc_state\"  : vrm[(vrm[\"Modes\"] == \"MB\") & (vrm[\"UZA Name\"].str.contains(\"WI\"))].loc[:, \"JAN02\":].mean(),\n",
    "    \"vrm_us\"          : vrm[vrm[\"Modes\"] == \"MB\"].loc[:, \"JAN02\":].mean(),\n",
    "    \"vrh_madison\"     : vrh_madison.loc[1066, \"JAN02\":].values,\n",
    "    \"vrh_wisc_state\"  : vrh[(vrh[\"Modes\"] == \"MB\") & (vrh[\"UZA Name\"].str.contains(\"WI\"))].loc[:, \"JAN02\":].mean(),\n",
    "    \"vrh_us\"          : vrh[vrh[\"Modes\"] == \"MB\"].loc[:, \"JAN02\":].mean(),\n",
    "    \"voms_madison\"    : voms_madison.loc[1066, \"JAN02\":].values,\n",
    "    \"voms_wisc_state\" : voms[(voms[\"Modes\"] == \"MB\") & (voms[\"UZA Name\"].str.contains(\"WI\"))].loc[:, \"JAN02\":].mean(),\n",
    "    \"voms_us\"         : voms[voms[\"Modes\"] == \"MB\"].loc[:, \"JAN02\":].mean()\n",
    "})\n",
    "\n",
    "df.head()\n",
    "\n",
    "df.to_csv(path_or_buf=\"../../../../data/FTA/madison_data.csv\", index=False)"
   ],
   "metadata": {
    "collapsed": false,
    "pycharm": {
     "name": "#%%\n"
    }
   }
  },
  {
   "cell_type": "code",
   "execution_count": 95,
   "outputs": [
    {
     "data": {
      "text/plain": "JAN02   711195.29412\nFEB02   674243.00000\nMAR02   700548.88235\nAPR02   695600.82353\nMAY02   696612.17647\n            ...     \nAPR20   139239.85000\nMAY20   150387.75000\nJUN20   153063.05000\nJUL20   179036.25000\nAUG20   172190.45000\nLength: 224, dtype: float64"
     },
     "execution_count": 95,
     "metadata": {},
     "output_type": "execute_result"
    }
   ],
   "source": [
    "# upt_mb_others = upt[upt[\"Modes\"] == \"MB\"].drop([1066]).loc[:, \"JAN02\":]\n",
    "# upt_mb_others.mean()\n",
    "\n",
    "upt[(upt[\"Modes\"] == \"MB\") & (upt[\"UZA Name\"].str.contains(\"WI\"))].drop([1066]).loc[:, \"JAN02\":].mean()"
   ],
   "metadata": {
    "collapsed": false,
    "pycharm": {
     "name": "#%%\n"
    }
   }
  }
 ],
 "metadata": {
  "kernelspec": {
   "display_name": "Python 3",
   "language": "python",
   "name": "python3"
  },
  "language_info": {
   "codemirror_mode": {
    "name": "ipython",
    "version": 2
   },
   "file_extension": ".py",
   "mimetype": "text/x-python",
   "name": "python",
   "nbconvert_exporter": "python",
   "pygments_lexer": "ipython2",
   "version": "2.7.6"
  }
 },
 "nbformat": 4,
 "nbformat_minor": 0
}