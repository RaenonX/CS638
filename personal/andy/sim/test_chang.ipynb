{
 "cells": [
  {
   "cell_type": "code",
   "execution_count": 17,
   "metadata": {
    "collapsed": true
   },
   "outputs": [],
   "source": [
    "import geopandas as gpd\n",
    "import pandas as pd\n",
    "import matplotlib.pyplot as plt\n",
    "import numpy as np\n",
    "import json\n",
    "import time\n",
    "import requests\n",
    "from datetime import datetime, timedelta\n",
    "from shapely.geometry import Point\n",
    "from busSim import BusSim\n",
    "from graph import Graph\n",
    "\n",
    "DATA_PATH = \"../../../data\"\n",
    "DAY = \"monday\"\n",
    "START_TIME = \"10:00:00\"\n",
    "ELAPSE_TIME = \"00:30:00\"\n",
    "AVG_WALKING_SPEED = 1.4 # 1.4 meters per second\n",
    "MAX_WALKING_MIN = 10"
   ]
  },
  {
   "cell_type": "code",
   "execution_count": 18,
   "outputs": [
    {
     "ename": "ValueError",
     "evalue": "cannot convert float NaN to integer",
     "output_type": "error",
     "traceback": [
      "\u001B[0;31m---------------------------------------------------------------------------\u001B[0m",
      "\u001B[0;31mValueError\u001B[0m                                Traceback (most recent call last)",
      "\u001B[0;32m<ipython-input-18-9eb575cc37d4>\u001B[0m in \u001B[0;36m<module>\u001B[0;34m\u001B[0m\n\u001B[0;32m----> 1\u001B[0;31m \u001B[0mbusSim\u001B[0m \u001B[0;34m=\u001B[0m \u001B[0mBusSim\u001B[0m\u001B[0;34m(\u001B[0m\u001B[0mDATA_PATH\u001B[0m\u001B[0;34m,\u001B[0m \u001B[0mDAY\u001B[0m\u001B[0;34m,\u001B[0m \u001B[0mSTART_TIME\u001B[0m\u001B[0;34m,\u001B[0m \u001B[0mELAPSE_TIME\u001B[0m\u001B[0;34m,\u001B[0m \u001B[0mAVG_WALKING_SPEED\u001B[0m\u001B[0;34m,\u001B[0m \u001B[0mMAX_WALKING_MIN\u001B[0m\u001B[0;34m,\u001B[0m \u001B[0mroute_remove\u001B[0m\u001B[0;34m=\u001B[0m\u001B[0;34m[\u001B[0m\u001B[0;36m80\u001B[0m\u001B[0;34m]\u001B[0m\u001B[0;34m)\u001B[0m\u001B[0;34m\u001B[0m\u001B[0;34m\u001B[0m\u001B[0m\n\u001B[0m\u001B[1;32m      2\u001B[0m \u001B[0mgdf\u001B[0m \u001B[0;34m=\u001B[0m \u001B[0mbusSim\u001B[0m\u001B[0;34m.\u001B[0m\u001B[0mget_gdf\u001B[0m\u001B[0;34m(\u001B[0m\u001B[0;36m765\u001B[0m\u001B[0;34m)\u001B[0m\u001B[0;34m\u001B[0m\u001B[0;34m\u001B[0m\u001B[0m\n\u001B[1;32m      3\u001B[0m \u001B[0mcity\u001B[0m \u001B[0;34m=\u001B[0m \u001B[0mgpd\u001B[0m\u001B[0;34m.\u001B[0m\u001B[0mread_file\u001B[0m\u001B[0;34m(\u001B[0m\u001B[0;34m\"../data/plot/background/madison-shp\"\u001B[0m\u001B[0;34m)\u001B[0m\u001B[0;34m\u001B[0m\u001B[0;34m\u001B[0m\u001B[0m\n\u001B[1;32m      4\u001B[0m \u001B[0mlakes\u001B[0m \u001B[0;34m=\u001B[0m \u001B[0mgpd\u001B[0m\u001B[0;34m.\u001B[0m\u001B[0mread_file\u001B[0m\u001B[0;34m(\u001B[0m\u001B[0;34m\"../data/plot/background/water-shp\"\u001B[0m\u001B[0;34m)\u001B[0m\u001B[0;34m\u001B[0m\u001B[0;34m\u001B[0m\u001B[0m\n\u001B[1;32m      5\u001B[0m \u001B[0mstreet\u001B[0m \u001B[0;34m=\u001B[0m \u001B[0mgpd\u001B[0m\u001B[0;34m.\u001B[0m\u001B[0mread_file\u001B[0m\u001B[0;34m(\u001B[0m\u001B[0;34m\"../data/plot/background/street-shp\"\u001B[0m\u001B[0;34m)\u001B[0m\u001B[0;34m\u001B[0m\u001B[0;34m\u001B[0m\u001B[0m\n",
      "\u001B[0;32m~/Library/Mobile Documents/com~apple~CloudDocs/wisc icloud/CS 638/Madison-Metro-Sim/personal/andy/sim/busSim.py\u001B[0m in \u001B[0;36m__init__\u001B[0;34m(self, data_path, day, start_time, elapse_time, avg_walking_speed, max_walking_min, route_remove, trip_delays)\u001B[0m\n\u001B[1;32m     53\u001B[0m         \u001B[0mself\u001B[0m\u001B[0;34m.\u001B[0m\u001B[0mmax_walking_distance\u001B[0m \u001B[0;34m=\u001B[0m \u001B[0mmax_walking_min\u001B[0m \u001B[0;34m*\u001B[0m \u001B[0;36m60.0\u001B[0m \u001B[0;34m*\u001B[0m \u001B[0mavg_walking_speed\u001B[0m\u001B[0;34m\u001B[0m\u001B[0;34m\u001B[0m\u001B[0m\n\u001B[1;32m     54\u001B[0m         \u001B[0mself\u001B[0m\u001B[0;34m.\u001B[0m\u001B[0mstopTimes_final_df\u001B[0m \u001B[0;34m=\u001B[0m \u001B[0mself\u001B[0m\u001B[0;34m.\u001B[0m\u001B[0m_gen_final_df\u001B[0m\u001B[0;34m(\u001B[0m\u001B[0mroute_remove\u001B[0m\u001B[0;34m,\u001B[0m \u001B[0mtrip_delays\u001B[0m\u001B[0;34m)\u001B[0m\u001B[0;34m\u001B[0m\u001B[0;34m\u001B[0m\u001B[0m\n\u001B[0;32m---> 55\u001B[0;31m         self.graph = Graph(self.stopTimes_final_df, start_time,\n\u001B[0m\u001B[1;32m     56\u001B[0m                            elapse_time, self.max_walking_distance, avg_walking_speed)\n\u001B[1;32m     57\u001B[0m \u001B[0;34m\u001B[0m\u001B[0m\n",
      "\u001B[0;32m~/Library/Mobile Documents/com~apple~CloudDocs/wisc icloud/CS 638/Madison-Metro-Sim/personal/andy/sim/graph.py\u001B[0m in \u001B[0;36m__init__\u001B[0;34m(self, df, start_time, elapse_time, max_walking_distance, avg_walking_speed)\u001B[0m\n\u001B[1;32m     68\u001B[0m         \u001B[0mself\u001B[0m\u001B[0;34m.\u001B[0m\u001B[0mavg_walking_speed\u001B[0m \u001B[0;34m=\u001B[0m \u001B[0mavg_walking_speed\u001B[0m\u001B[0;34m\u001B[0m\u001B[0;34m\u001B[0m\u001B[0m\n\u001B[1;32m     69\u001B[0m         \u001B[0mself\u001B[0m\u001B[0;34m.\u001B[0m\u001B[0mnodes\u001B[0m \u001B[0;34m=\u001B[0m \u001B[0;34m[\u001B[0m\u001B[0;34m]\u001B[0m\u001B[0;34m\u001B[0m\u001B[0;34m\u001B[0m\u001B[0m\n\u001B[0;32m---> 70\u001B[0;31m         \u001B[0mself\u001B[0m\u001B[0;34m.\u001B[0m\u001B[0m_constuct_graph\u001B[0m\u001B[0;34m(\u001B[0m\u001B[0mmax_walking_distance\u001B[0m\u001B[0;34m)\u001B[0m\u001B[0;34m\u001B[0m\u001B[0;34m\u001B[0m\u001B[0m\n\u001B[0m\u001B[1;32m     71\u001B[0m \u001B[0;34m\u001B[0m\u001B[0m\n\u001B[1;32m     72\u001B[0m     \u001B[0;32mdef\u001B[0m \u001B[0mget_gdf\u001B[0m\u001B[0;34m(\u001B[0m\u001B[0mself\u001B[0m\u001B[0;34m,\u001B[0m \u001B[0mstart_stop\u001B[0m\u001B[0;34m)\u001B[0m\u001B[0;34m:\u001B[0m\u001B[0;34m\u001B[0m\u001B[0;34m\u001B[0m\u001B[0m\n",
      "\u001B[0;32m~/Library/Mobile Documents/com~apple~CloudDocs/wisc icloud/CS 638/Madison-Metro-Sim/personal/andy/sim/graph.py\u001B[0m in \u001B[0;36m_constuct_graph\u001B[0;34m(self, max_walking_distance)\u001B[0m\n\u001B[1;32m    131\u001B[0m         \u001B[0mmax_lon\u001B[0m \u001B[0;34m=\u001B[0m \u001B[0mself\u001B[0m\u001B[0;34m.\u001B[0m\u001B[0mdf\u001B[0m\u001B[0;34m.\u001B[0m\u001B[0mstop_lon\u001B[0m\u001B[0;34m.\u001B[0m\u001B[0mmax\u001B[0m\u001B[0;34m(\u001B[0m\u001B[0;34m)\u001B[0m\u001B[0;34m\u001B[0m\u001B[0;34m\u001B[0m\u001B[0m\n\u001B[1;32m    132\u001B[0m \u001B[0;34m\u001B[0m\u001B[0m\n\u001B[0;32m--> 133\u001B[0;31m         \u001B[0mlat_num\u001B[0m \u001B[0;34m=\u001B[0m \u001B[0mceil\u001B[0m\u001B[0;34m(\u001B[0m\u001B[0;34m(\u001B[0m\u001B[0mmax_lat\u001B[0m \u001B[0;34m-\u001B[0m \u001B[0mmin_lat\u001B[0m\u001B[0;34m)\u001B[0m \u001B[0;34m/\u001B[0m \u001B[0mlat_stepsize\u001B[0m\u001B[0;34m)\u001B[0m\u001B[0;34m\u001B[0m\u001B[0;34m\u001B[0m\u001B[0m\n\u001B[0m\u001B[1;32m    134\u001B[0m         \u001B[0mlon_num\u001B[0m \u001B[0;34m=\u001B[0m \u001B[0mceil\u001B[0m\u001B[0;34m(\u001B[0m\u001B[0;34m(\u001B[0m\u001B[0mmax_lon\u001B[0m \u001B[0;34m-\u001B[0m \u001B[0mmin_lon\u001B[0m\u001B[0;34m)\u001B[0m \u001B[0;34m/\u001B[0m \u001B[0mlon_stepsize\u001B[0m\u001B[0;34m)\u001B[0m\u001B[0;34m\u001B[0m\u001B[0;34m\u001B[0m\u001B[0m\n\u001B[1;32m    135\u001B[0m         \u001B[0;32mfor\u001B[0m \u001B[0mi\u001B[0m \u001B[0;32min\u001B[0m \u001B[0mrange\u001B[0m\u001B[0;34m(\u001B[0m\u001B[0mlat_num\u001B[0m\u001B[0;34m)\u001B[0m\u001B[0;34m:\u001B[0m\u001B[0;34m\u001B[0m\u001B[0;34m\u001B[0m\u001B[0m\n",
      "\u001B[0;31mValueError\u001B[0m: cannot convert float NaN to integer"
     ]
    }
   ],
   "source": [
    "busSim = BusSim(DATA_PATH, DAY, START_TIME, ELAPSE_TIME,\n",
    "                AVG_WALKING_SPEED, MAX_WALKING_MIN,\n",
    "                route_remove=[80])\n",
    "gdf = busSim.get_gdf(765)\n",
    "city = gpd.read_file(\"../data/plot/background/madison-shp\")\n",
    "lakes = gpd.read_file(\"../data/plot/background/water-shp\")\n",
    "street = gpd.read_file(\"../data/plot/background/street-shp\")\n",
    "\n",
    "ax = city.plot(color=\"lightgray\", alpha=.2, figsize=(12, 12), zorder=2)\n",
    "lakes.plot(color=\"lightblue\", ax=ax, zorder=1, alpha=0.8)\n",
    "street.plot(color=\"darkgray\", alpha = .5, ax=ax, zorder=3)\n",
    "gdf.difference(lakes.unary_union).plot(color=\"#ffbfba\", ax=ax)\n",
    "gdf[\"geometry\"].centroid.plot(color=\"red\", ax=ax, markersize=2)\n",
    "\n",
    "ax.set_axis_off()\n",
    "busSim.get_area(gdf) #3132638.580138589"
   ],
   "metadata": {
    "collapsed": false,
    "pycharm": {
     "name": "#%%\n"
    }
   }
  },
  {
   "cell_type": "code",
   "execution_count": null,
   "outputs": [],
   "source": [
    "data_path         = \"../../../data\"\n",
    "day               = \"wkd\"\n",
    "start_time        = \"7:30:00\"\n",
    "elapse_time       = \"0:30:00\"\n",
    "avg_walking_speed = 1.4\n",
    "max_walking_min   = 10.5\n",
    "# route_remove      =\n",
    "# trip_delays       =\n",
    "\n",
    "bs = busSim(data_path, day, start_time, elapse_time, avg_walking_speed, max_walking_min)\n",
    "bs.get_area(bs.get_gdf(start_stop=7385))"
   ],
   "metadata": {
    "collapsed": false,
    "pycharm": {
     "name": "#%%\n"
    }
   }
  }
 ],
 "metadata": {
  "kernelspec": {
   "display_name": "Python 3",
   "language": "python",
   "name": "python3"
  },
  "language_info": {
   "codemirror_mode": {
    "name": "ipython",
    "version": 2
   },
   "file_extension": ".py",
   "mimetype": "text/x-python",
   "name": "python",
   "nbconvert_exporter": "python",
   "pygments_lexer": "ipython2",
   "version": "2.7.6"
  }
 },
 "nbformat": 4,
 "nbformat_minor": 0
}