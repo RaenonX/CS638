{
 "cells": [
  {
   "cell_type": "code",
   "execution_count": 35,
   "metadata": {
    "collapsed": true
   },
   "outputs": [],
   "source": [
    "class stop:\n",
    "\n",
    "    def __init__(self, stop_id, stop_name,\n",
    "                 lat, lon, wheelchair_boarding):\n",
    "        self.stop_id = stop_id\n",
    "        self.stop_name = stop_name\n",
    "        self.lat = lat\n",
    "        self.lon = lon\n",
    "        self.wheelchair_boarding = wheelchair_boarding\n",
    "\n",
    "class trip:\n",
    "\n",
    "    # data record time:\n",
    "    # - 20200823 - 20201003 for 92, 20201004 - 20201128 for 93\n",
    "    # - here we'll pick 93\n",
    "    # service type included: WKD, SAT, SUN, HOL, MWK\n",
    "    def __init__(self, trip_id, service_type, headsign):\n",
    "        self.trip_id = trip_id\n",
    "        self.service_type  = service_type  # 93_WKD, 93_SAT, etc\n",
    "        self.headsign = headsign\n",
    "\n",
    "class stop_time:\n",
    "\n",
    "    def __init__(self, trip_id, stop_id, arrival_time,\n",
    "                 departure_time, distance_travel, headsign,\n",
    "                 stop_sequence):\n",
    "        self.trip_id = trip_id\n",
    "        self.stop_id = stop_id\n",
    "        self.arrival_time = arrival_time\n",
    "        self.departure_time = departure_time\n",
    "        self.distance_traveled = distance_travel\n",
    "        self.headsign = headsign\n",
    "        self.stop_sequence = stop_sequence\n",
    "\n",
    "\n",
    "class route:\n",
    "\n",
    "    def __init__(self, route_id, route_num, service_id, service_name, suspended):\n",
    "        self.route_id = route_id\n",
    "        self.route_num = route_num\n",
    "        self.service_id = service_id  # 92 = excluded suspended service; 93 = included\n",
    "                                      # 7 & 20 are special cases (only suspended some trips)\n",
    "        self.service_name = service_name\n",
    "        self.suspended = suspended  # suspended = True/False due to pandemic\n",
    "        self.stops = []\n",
    "        self.trips_wkd = {}  # trip_id: (reference to trip, reference to stop_time)\n",
    "        self.trips_sat = {}\n",
    "        self.trips_sun = {}\n",
    "        self.trips_hol = {}\n",
    "        self.trips_mwk = {}\n",
    "        self.stop_times = []\n",
    "\n",
    "    def add_stops(self, stop):\n",
    "        self.stops.append(stop)\n",
    "\n",
    "    def add_trips(self, trip_id, trip):\n",
    "        service_type = trip.service_type[3:6].lower()\n",
    "        if service_type == \"wkd\":\n",
    "            self.trips_wkd.append(trip)\n",
    "        elif service_type == \"sat\":\n",
    "            self.trips_sat.append(trip)\n",
    "        elif service_type == \"sun\":\n",
    "            self.trips_sun.append(trip)\n",
    "        elif service_type == \"hol\":\n",
    "            self.trips_hol.append(trip)\n",
    "        else:\n",
    "            self.trips_mwk.append(trip)\n",
    "\n",
    "    def add_stop_times(self, stop_time):\n",
    "        self.stop_times.append(stop_time)"
   ]
  },
  {
   "cell_type": "code",
   "execution_count": 15,
   "outputs": [],
   "source": [
    "import pandas as pd"
   ],
   "metadata": {
    "collapsed": false,
    "pycharm": {
     "name": "#%%\n"
    }
   }
  },
  {
   "cell_type": "code",
   "execution_count": 16,
   "outputs": [
    {
     "data": {
      "text/plain": "47"
     },
     "execution_count": 16,
     "metadata": {},
     "output_type": "execute_result"
    }
   ],
   "source": [
    "trips_df = pd.read_csv(\"../../../data/mmt_gtfs/trips.csv\")\n",
    "len(set(trips_df[\"route_short_name\"]))  # 47"
   ],
   "metadata": {
    "collapsed": false,
    "pycharm": {
     "name": "#%%\n"
    }
   }
  },
  {
   "cell_type": "code",
   "execution_count": 17,
   "outputs": [
    {
     "data": {
      "text/plain": "   route_id  service_id agency_id  route_short_name  route_long_name  \\\n0      9027          92       MMT                 1              NaN   \n1      9028          92       MMT                 2              NaN   \n2      9029          92       MMT                 3              NaN   \n3      9030          92       MMT                 4              NaN   \n4      9031          92       MMT                 5              NaN   \n\n  route_service_name                                         route_desc  \\\n0   OLD UNIV:CAP SQR  Weekday schedule trips suspended until further...   \n1   WEST TP:NORTH TP  Daily schedule trips operate regularly every 3...   \n2    WEST TP:EAST TP  Weekday schedule trips suspended until further...   \n3  SOUTH TP:NORTH TP  Daily schedule trips operate regularly every 6...   \n4   SOUTH TP:EAST TP  Daily schedule trips operate regularly every 6...   \n\n   route_type                                          route_url route_color  \\\n0           3  http://www.cityofmadison.com/metro/routes-sche...      E3D23E   \n1           3  http://www.cityofmadison.com/metro/routes-sche...      981F66   \n2           3  http://www.cityofmadison.com/metro/routes-sche...      CD8382   \n3           3  http://www.cityofmadison.com/metro/routes-sche...      42784D   \n4           3  http://www.cityofmadison.com/metro/routes-sche...      B46A5B   \n\n  route_text_color  bikes_allowed  \n0           000000              1  \n1           FFFFFF              1  \n2           000000              1  \n3           000000              1  \n4           000000              1  ",
      "text/html": "<div>\n<style scoped>\n    .dataframe tbody tr th:only-of-type {\n        vertical-align: middle;\n    }\n\n    .dataframe tbody tr th {\n        vertical-align: top;\n    }\n\n    .dataframe thead th {\n        text-align: right;\n    }\n</style>\n<table border=\"1\" class=\"dataframe\">\n  <thead>\n    <tr style=\"text-align: right;\">\n      <th></th>\n      <th>route_id</th>\n      <th>service_id</th>\n      <th>agency_id</th>\n      <th>route_short_name</th>\n      <th>route_long_name</th>\n      <th>route_service_name</th>\n      <th>route_desc</th>\n      <th>route_type</th>\n      <th>route_url</th>\n      <th>route_color</th>\n      <th>route_text_color</th>\n      <th>bikes_allowed</th>\n    </tr>\n  </thead>\n  <tbody>\n    <tr>\n      <th>0</th>\n      <td>9027</td>\n      <td>92</td>\n      <td>MMT</td>\n      <td>1</td>\n      <td>NaN</td>\n      <td>OLD UNIV:CAP SQR</td>\n      <td>Weekday schedule trips suspended until further...</td>\n      <td>3</td>\n      <td>http://www.cityofmadison.com/metro/routes-sche...</td>\n      <td>E3D23E</td>\n      <td>000000</td>\n      <td>1</td>\n    </tr>\n    <tr>\n      <th>1</th>\n      <td>9028</td>\n      <td>92</td>\n      <td>MMT</td>\n      <td>2</td>\n      <td>NaN</td>\n      <td>WEST TP:NORTH TP</td>\n      <td>Daily schedule trips operate regularly every 3...</td>\n      <td>3</td>\n      <td>http://www.cityofmadison.com/metro/routes-sche...</td>\n      <td>981F66</td>\n      <td>FFFFFF</td>\n      <td>1</td>\n    </tr>\n    <tr>\n      <th>2</th>\n      <td>9029</td>\n      <td>92</td>\n      <td>MMT</td>\n      <td>3</td>\n      <td>NaN</td>\n      <td>WEST TP:EAST TP</td>\n      <td>Weekday schedule trips suspended until further...</td>\n      <td>3</td>\n      <td>http://www.cityofmadison.com/metro/routes-sche...</td>\n      <td>CD8382</td>\n      <td>000000</td>\n      <td>1</td>\n    </tr>\n    <tr>\n      <th>3</th>\n      <td>9030</td>\n      <td>92</td>\n      <td>MMT</td>\n      <td>4</td>\n      <td>NaN</td>\n      <td>SOUTH TP:NORTH TP</td>\n      <td>Daily schedule trips operate regularly every 6...</td>\n      <td>3</td>\n      <td>http://www.cityofmadison.com/metro/routes-sche...</td>\n      <td>42784D</td>\n      <td>000000</td>\n      <td>1</td>\n    </tr>\n    <tr>\n      <th>4</th>\n      <td>9031</td>\n      <td>92</td>\n      <td>MMT</td>\n      <td>5</td>\n      <td>NaN</td>\n      <td>SOUTH TP:EAST TP</td>\n      <td>Daily schedule trips operate regularly every 6...</td>\n      <td>3</td>\n      <td>http://www.cityofmadison.com/metro/routes-sche...</td>\n      <td>B46A5B</td>\n      <td>000000</td>\n      <td>1</td>\n    </tr>\n  </tbody>\n</table>\n</div>"
     },
     "execution_count": 17,
     "metadata": {},
     "output_type": "execute_result"
    }
   ],
   "source": [
    "routes_df = pd.read_csv(\"../../../data/mmt_gtfs/routes.csv\")\n",
    "len(set(routes_df[\"route_short_name\"]))  # 63\n",
    "routes_df.head()"
   ],
   "metadata": {
    "collapsed": false,
    "pycharm": {
     "name": "#%%\n"
    }
   }
  },
  {
   "cell_type": "code",
   "execution_count": 18,
   "outputs": [
    {
     "data": {
      "text/plain": "   Unnamed: 0  OBJECTID  stop_id stop_code                      stop_name  \\\n0           0     12792     1110      1110      E Dayton & Wisconsin (WB)   \n1           1     12793     1111      1111     W Doty & M L K Junior (EB)   \n2           2     12794     1124      1124      S Fairchild & W Main (SB)   \n3           3     12795     1135      1135     N Webster & E Mifflin (NB)   \n4           4     12796     1140      1140  E Washington & N Webster (WB)   \n\n                                           stop_desc   stop_lat   stop_lon  \\\n0  This EVENT/DETOUR ONLY stop (#1110) is westbou...  43.076428 -89.385920   \n1  This EVENT/DETOUR ONLY stop (#1111) is eastbou...  43.072938 -89.382354   \n2  This EVENT/DETOUR ONLY stop (#1124) is southbo...  43.072467 -89.385273   \n3  This EVENT/DETOUR ONLY stop (#1135) is northbo...  43.077272 -89.383413   \n4  This EVENT/DETOUR ONLY stop (#1140) is westbou...  43.076390 -89.381930   \n\n  agency_id  location_t  ...  Light  Reaitime PK_MD_WE  jurisdicti  \\\n0       MMT           0  ...      0         0        0        CMAD   \n1       MMT           0  ...      0         0        0        CMAD   \n2       MMT           0  ...      0         0        0        CMAD   \n3       MMT           0  ...      0         0        0        CMAD   \n4       MMT           0  ...      0         0        0        CMAD   \n\n   relative_p  cardinal_d    primary_st  address_ra    cross_loca  \\\n0           3       270.0      E Dayton           2     Wisconsin   \n1           3        90.0        W Doty           1  M L K Junior   \n2           3       180.0   S Fairchild          98        W Main   \n3           1         0.0     N Webster         101     E Mifflin   \n4           3       270.0  E Washington         200     N Webster   \n\n                                       geometry  \n0  POINT (-89.38591919586982 43.07643036088118)  \n1  POINT (-89.38235320566406 43.07294036311185)  \n2  POINT (-89.38527220696201 43.07246935942042)  \n3  POINT (-89.38341219351082 43.07727436415694)  \n4  POINT (-89.38192919600975 43.07639236517169)  \n\n[5 rows x 27 columns]",
      "text/html": "<div>\n<style scoped>\n    .dataframe tbody tr th:only-of-type {\n        vertical-align: middle;\n    }\n\n    .dataframe tbody tr th {\n        vertical-align: top;\n    }\n\n    .dataframe thead th {\n        text-align: right;\n    }\n</style>\n<table border=\"1\" class=\"dataframe\">\n  <thead>\n    <tr style=\"text-align: right;\">\n      <th></th>\n      <th>Unnamed: 0</th>\n      <th>OBJECTID</th>\n      <th>stop_id</th>\n      <th>stop_code</th>\n      <th>stop_name</th>\n      <th>stop_desc</th>\n      <th>stop_lat</th>\n      <th>stop_lon</th>\n      <th>agency_id</th>\n      <th>location_t</th>\n      <th>...</th>\n      <th>Light</th>\n      <th>Reaitime</th>\n      <th>PK_MD_WE</th>\n      <th>jurisdicti</th>\n      <th>relative_p</th>\n      <th>cardinal_d</th>\n      <th>primary_st</th>\n      <th>address_ra</th>\n      <th>cross_loca</th>\n      <th>geometry</th>\n    </tr>\n  </thead>\n  <tbody>\n    <tr>\n      <th>0</th>\n      <td>0</td>\n      <td>12792</td>\n      <td>1110</td>\n      <td>1110</td>\n      <td>E Dayton &amp; Wisconsin (WB)</td>\n      <td>This EVENT/DETOUR ONLY stop (#1110) is westbou...</td>\n      <td>43.076428</td>\n      <td>-89.385920</td>\n      <td>MMT</td>\n      <td>0</td>\n      <td>...</td>\n      <td>0</td>\n      <td>0</td>\n      <td>0</td>\n      <td>CMAD</td>\n      <td>3</td>\n      <td>270.0</td>\n      <td>E Dayton</td>\n      <td>2</td>\n      <td>Wisconsin</td>\n      <td>POINT (-89.38591919586982 43.07643036088118)</td>\n    </tr>\n    <tr>\n      <th>1</th>\n      <td>1</td>\n      <td>12793</td>\n      <td>1111</td>\n      <td>1111</td>\n      <td>W Doty &amp; M L K Junior (EB)</td>\n      <td>This EVENT/DETOUR ONLY stop (#1111) is eastbou...</td>\n      <td>43.072938</td>\n      <td>-89.382354</td>\n      <td>MMT</td>\n      <td>0</td>\n      <td>...</td>\n      <td>0</td>\n      <td>0</td>\n      <td>0</td>\n      <td>CMAD</td>\n      <td>3</td>\n      <td>90.0</td>\n      <td>W Doty</td>\n      <td>1</td>\n      <td>M L K Junior</td>\n      <td>POINT (-89.38235320566406 43.07294036311185)</td>\n    </tr>\n    <tr>\n      <th>2</th>\n      <td>2</td>\n      <td>12794</td>\n      <td>1124</td>\n      <td>1124</td>\n      <td>S Fairchild &amp; W Main (SB)</td>\n      <td>This EVENT/DETOUR ONLY stop (#1124) is southbo...</td>\n      <td>43.072467</td>\n      <td>-89.385273</td>\n      <td>MMT</td>\n      <td>0</td>\n      <td>...</td>\n      <td>0</td>\n      <td>0</td>\n      <td>0</td>\n      <td>CMAD</td>\n      <td>3</td>\n      <td>180.0</td>\n      <td>S Fairchild</td>\n      <td>98</td>\n      <td>W Main</td>\n      <td>POINT (-89.38527220696201 43.07246935942042)</td>\n    </tr>\n    <tr>\n      <th>3</th>\n      <td>3</td>\n      <td>12795</td>\n      <td>1135</td>\n      <td>1135</td>\n      <td>N Webster &amp; E Mifflin (NB)</td>\n      <td>This EVENT/DETOUR ONLY stop (#1135) is northbo...</td>\n      <td>43.077272</td>\n      <td>-89.383413</td>\n      <td>MMT</td>\n      <td>0</td>\n      <td>...</td>\n      <td>0</td>\n      <td>0</td>\n      <td>0</td>\n      <td>CMAD</td>\n      <td>1</td>\n      <td>0.0</td>\n      <td>N Webster</td>\n      <td>101</td>\n      <td>E Mifflin</td>\n      <td>POINT (-89.38341219351082 43.07727436415694)</td>\n    </tr>\n    <tr>\n      <th>4</th>\n      <td>4</td>\n      <td>12796</td>\n      <td>1140</td>\n      <td>1140</td>\n      <td>E Washington &amp; N Webster (WB)</td>\n      <td>This EVENT/DETOUR ONLY stop (#1140) is westbou...</td>\n      <td>43.076390</td>\n      <td>-89.381930</td>\n      <td>MMT</td>\n      <td>0</td>\n      <td>...</td>\n      <td>0</td>\n      <td>0</td>\n      <td>0</td>\n      <td>CMAD</td>\n      <td>3</td>\n      <td>270.0</td>\n      <td>E Washington</td>\n      <td>200</td>\n      <td>N Webster</td>\n      <td>POINT (-89.38192919600975 43.07639236517169)</td>\n    </tr>\n  </tbody>\n</table>\n<p>5 rows × 27 columns</p>\n</div>"
     },
     "execution_count": 18,
     "metadata": {},
     "output_type": "execute_result"
    }
   ],
   "source": [
    "stops_df = pd.read_csv(\"../../../data/bus_route_stop_info/stops.csv\")\n",
    "stops_df.head()"
   ],
   "metadata": {
    "collapsed": false,
    "pycharm": {
     "name": "#%%\n"
    }
   }
  },
  {
   "cell_type": "code",
   "execution_count": 40,
   "outputs": [
    {
     "data": {
      "text/plain": "(47, 63)"
     },
     "execution_count": 40,
     "metadata": {},
     "output_type": "execute_result"
    }
   ],
   "source": [
    "# storing route info to routes_dict\n",
    "# route_num: {service_id: route_object}\n",
    "routes_dict = {route_num: {} for route_num in set(routes_df[\"route_short_name\"])}\n",
    "for idx, row in routes_df.iterrows():\n",
    "    suspended = True if \"Weekday schedule trips suspended until further notice.\" in row[\"route_desc\"] else False\n",
    "    routes_dict[row[\"route_short_name\"]][row[\"service_id\"]] = route(row[\"route_id\"],\n",
    "                                                                    row[\"route_short_name\"],\n",
    "                                                                    row[\"service_id\"],\n",
    "                                                                    row[\"route_service_name\"],\n",
    "                                                                    suspended)\n",
    "\n",
    "# test if # of total routes including suspended service == 63\n",
    "# and  if # of total routes excluding suspended service == 47\n",
    "suspended_cnt = 0\n",
    "suspended = []\n",
    "not_suspended_cnt = 0\n",
    "for key, val in routes_dict.items():\n",
    "    for sub_key, sub_val in val.items():\n",
    "        if sub_key == 92:\n",
    "            if routes_dict[key][sub_key].suspended == False:\n",
    "                suspended_cnt += 1\n",
    "                suspended.append(routes_dict[key][sub_key].route_num)\n",
    "        if sub_key == 93:\n",
    "            not_suspended_cnt += 1\n",
    "\n",
    "suspended_cnt, not_suspended_cnt"
   ],
   "metadata": {
    "collapsed": false,
    "pycharm": {
     "name": "#%%\n"
    }
   }
  },
  {
   "cell_type": "code",
   "execution_count": 41,
   "outputs": [
    {
     "data": {
      "text/plain": "(47, 47)"
     },
     "execution_count": 41,
     "metadata": {},
     "output_type": "execute_result"
    }
   ],
   "source": [
    "tr92 = trips_df[trips_df[\"service_id\"].str.startswith(\"92\")]\n",
    "tr93 = trips_df[trips_df[\"service_id\"].str.startswith(\"93\")]\n",
    "len(set(tr92[\"route_short_name\"])), len(set(tr93[\"route_short_name\"]))"
   ],
   "metadata": {
    "collapsed": false,
    "pycharm": {
     "name": "#%%\n"
    }
   }
  },
  {
   "cell_type": "code",
   "execution_count": 42,
   "outputs": [
    {
     "data": {
      "text/plain": "(72, 68, 68, 58, 68)"
     },
     "execution_count": 42,
     "metadata": {},
     "output_type": "execute_result"
    }
   ],
   "source": [
    "# def __init__(self, route_id, route_num, trip_id, service_type, headsign):\n",
    "#         self.route_id = route_id\n",
    "#         self.route_num = route_num\n",
    "#         self.trip_id = trip_id\n",
    "#         self.service_type  = service_type  # 93_WKD, 93_SAT, etc\n",
    "#         self.headsign = headsign\n",
    "for route_num in routes_dict.keys():\n",
    "    trips_df2 = trips_df[trips_df[\"route_short_name\"].isin([route_num])\n",
    "                         & (trips_df[\"service_id\"].str.startswith(\"93\"))]\n",
    "\n",
    "    trip_obj = 0\n",
    "    stop_time_obj = 0\n",
    "\n",
    "    # trip object\n",
    "    for idx, row in trips_df2.iterrows():\n",
    "        trip_obj = trip(route_id=row[\"route_id\"],\n",
    "                        route_num=row[\"route_short_name\"],\n",
    "                        trip_id=row[\"trip_id\"],\n",
    "                        service_type=row[\"service_id\"][:6],\n",
    "                        headsign=row[\"trip_headsign\"])\n",
    "\n",
    "        # routes_dict[route_num][93].add_trips(trip_obj)\n",
    "\n",
    "    stop_times_df2 = stop_times_df[stop_times_df[trip_id]]\n",
    "\n",
    "    # stop time object\n",
    "    for idx, row in stop_times_df2.iterrows():\n",
    "\n",
    "\n",
    "\n",
    "# test if these values == (72, 68, 68, 58, 68)\n",
    "len(routes_dict[2][93].trips_wkd), len(routes_dict[2][93].trips_sat), len(routes_dict[2][93].trips_sun), len(routes_dict[2][93].trips_hol), len(routes_dict[2][93].trips_mwk)"
   ],
   "metadata": {
    "collapsed": false,
    "pycharm": {
     "name": "#%%\n"
    }
   }
  },
  {
   "cell_type": "code",
   "execution_count": 48,
   "outputs": [
    {
     "data": {
      "text/plain": "   trip_id  stop_sequence  stop_id  pickup_type  drop_off_type arrival_time  \\\n0  9999999              1     7605            0              1      5:27:00   \n1  9999999              2     7739            0              0      5:27:40   \n2  9999999              3     7119            0              0      5:28:33   \n3  9999999              4     7107            0              0      5:28:53   \n4  9999999              5     7663            0              0      5:29:51   \n\n  departure_time  timepoint  stop_headsign  shape_dist_traveled  \n0        5:27:00          1  EAST TRANSFER               0.0249  \n1        5:27:40          0  EAST TRANSFER               0.2003  \n2        5:28:33          0  EAST TRANSFER               0.4352  \n3        5:28:53          0  EAST TRANSFER               0.5255  \n4        5:29:51          0  EAST TRANSFER               0.7820  ",
      "text/html": "<div>\n<style scoped>\n    .dataframe tbody tr th:only-of-type {\n        vertical-align: middle;\n    }\n\n    .dataframe tbody tr th {\n        vertical-align: top;\n    }\n\n    .dataframe thead th {\n        text-align: right;\n    }\n</style>\n<table border=\"1\" class=\"dataframe\">\n  <thead>\n    <tr style=\"text-align: right;\">\n      <th></th>\n      <th>trip_id</th>\n      <th>stop_sequence</th>\n      <th>stop_id</th>\n      <th>pickup_type</th>\n      <th>drop_off_type</th>\n      <th>arrival_time</th>\n      <th>departure_time</th>\n      <th>timepoint</th>\n      <th>stop_headsign</th>\n      <th>shape_dist_traveled</th>\n    </tr>\n  </thead>\n  <tbody>\n    <tr>\n      <th>0</th>\n      <td>9999999</td>\n      <td>1</td>\n      <td>7605</td>\n      <td>0</td>\n      <td>1</td>\n      <td>5:27:00</td>\n      <td>5:27:00</td>\n      <td>1</td>\n      <td>EAST TRANSFER</td>\n      <td>0.0249</td>\n    </tr>\n    <tr>\n      <th>1</th>\n      <td>9999999</td>\n      <td>2</td>\n      <td>7739</td>\n      <td>0</td>\n      <td>0</td>\n      <td>5:27:40</td>\n      <td>5:27:40</td>\n      <td>0</td>\n      <td>EAST TRANSFER</td>\n      <td>0.2003</td>\n    </tr>\n    <tr>\n      <th>2</th>\n      <td>9999999</td>\n      <td>3</td>\n      <td>7119</td>\n      <td>0</td>\n      <td>0</td>\n      <td>5:28:33</td>\n      <td>5:28:33</td>\n      <td>0</td>\n      <td>EAST TRANSFER</td>\n      <td>0.4352</td>\n    </tr>\n    <tr>\n      <th>3</th>\n      <td>9999999</td>\n      <td>4</td>\n      <td>7107</td>\n      <td>0</td>\n      <td>0</td>\n      <td>5:28:53</td>\n      <td>5:28:53</td>\n      <td>0</td>\n      <td>EAST TRANSFER</td>\n      <td>0.5255</td>\n    </tr>\n    <tr>\n      <th>4</th>\n      <td>9999999</td>\n      <td>5</td>\n      <td>7663</td>\n      <td>0</td>\n      <td>0</td>\n      <td>5:29:51</td>\n      <td>5:29:51</td>\n      <td>0</td>\n      <td>EAST TRANSFER</td>\n      <td>0.7820</td>\n    </tr>\n  </tbody>\n</table>\n</div>"
     },
     "execution_count": 48,
     "metadata": {},
     "output_type": "execute_result"
    }
   ],
   "source": [
    "stop_times_df = pd.read_csv(\"../../../data/mmt_gtfs/stop_times.csv\")\n",
    "stop_times_df.head()"
   ],
   "metadata": {
    "collapsed": false,
    "pycharm": {
     "name": "#%%\n"
    }
   }
  },
  {
   "cell_type": "code",
   "execution_count": 61,
   "outputs": [],
   "source": [
    "# for route_num in routes_dict.keys():\n",
    "#     stop_times_df2 = stop_times_df[stop_times_df[\"trip_id\"].isin(routes_dict[route_num][93].trip)]\n"
   ],
   "metadata": {
    "collapsed": false,
    "pycharm": {
     "name": "#%%\n"
    }
   }
  }
 ],
 "metadata": {
  "kernelspec": {
   "display_name": "Python 3",
   "language": "python",
   "name": "python3"
  },
  "language_info": {
   "codemirror_mode": {
    "name": "ipython",
    "version": 2
   },
   "file_extension": ".py",
   "mimetype": "text/x-python",
   "name": "python",
   "nbconvert_exporter": "python",
   "pygments_lexer": "ipython2",
   "version": "2.7.6"
  }
 },
 "nbformat": 4,
 "nbformat_minor": 0
}